{
  "nbformat": 4,
  "nbformat_minor": 0,
  "metadata": {
    "colab": {
      "name": "Automatic -Extractive Text Summarization of Trump's.ipynb",
      "provenance": [],
      "collapsed_sections": []
    },
    "kernelspec": {
      "name": "python3",
      "display_name": "Python 3"
    },
    "accelerator": "TPU"
  },
  "cells": [
    {
      "cell_type": "markdown",
      "metadata": {
        "id": "vURMqKTVsOVR",
        "colab_type": "text"
      },
      "source": [
        "#Text rank Using Spacy"
      ]
    },
    {
      "cell_type": "code",
      "metadata": {
        "id": "2j_Nsr_r3EzD",
        "colab_type": "code",
        "colab": {
          "base_uri": "https://localhost:8080/",
          "height": 377
        },
        "outputId": "fcaadd3e-7b82-4ab2-f42f-580fdab0d2ed"
      },
      "source": [
        "!pip install -U spacy"
      ],
      "execution_count": 92,
      "outputs": [
        {
          "output_type": "stream",
          "text": [
            "Requirement already up-to-date: spacy in /usr/local/lib/python3.6/dist-packages (2.2.2)\n",
            "Requirement already satisfied, skipping upgrade: numpy>=1.15.0 in /usr/local/lib/python3.6/dist-packages (from spacy) (1.17.3)\n",
            "Requirement already satisfied, skipping upgrade: importlib-metadata>=0.20; python_version < \"3.8\" in /usr/local/lib/python3.6/dist-packages (from spacy) (0.23)\n",
            "Requirement already satisfied, skipping upgrade: thinc<7.4.0,>=7.3.0 in /usr/local/lib/python3.6/dist-packages (from spacy) (7.3.1)\n",
            "Requirement already satisfied, skipping upgrade: preshed<3.1.0,>=3.0.2 in /usr/local/lib/python3.6/dist-packages (from spacy) (3.0.2)\n",
            "Requirement already satisfied, skipping upgrade: murmurhash<1.1.0,>=0.28.0 in /usr/local/lib/python3.6/dist-packages (from spacy) (1.0.2)\n",
            "Requirement already satisfied, skipping upgrade: setuptools in /usr/local/lib/python3.6/dist-packages (from spacy) (41.4.0)\n",
            "Requirement already satisfied, skipping upgrade: srsly<1.1.0,>=0.1.0 in /usr/local/lib/python3.6/dist-packages (from spacy) (0.2.0)\n",
            "Requirement already satisfied, skipping upgrade: plac<1.2.0,>=0.9.6 in /usr/local/lib/python3.6/dist-packages (from spacy) (0.9.6)\n",
            "Requirement already satisfied, skipping upgrade: blis<0.5.0,>=0.4.0 in /usr/local/lib/python3.6/dist-packages (from spacy) (0.4.1)\n",
            "Requirement already satisfied, skipping upgrade: wasabi<1.1.0,>=0.3.0 in /usr/local/lib/python3.6/dist-packages (from spacy) (0.3.0)\n",
            "Requirement already satisfied, skipping upgrade: requests<3.0.0,>=2.13.0 in /usr/local/lib/python3.6/dist-packages (from spacy) (2.21.0)\n",
            "Requirement already satisfied, skipping upgrade: cymem<2.1.0,>=2.0.2 in /usr/local/lib/python3.6/dist-packages (from spacy) (2.0.2)\n",
            "Requirement already satisfied, skipping upgrade: zipp>=0.5 in /usr/local/lib/python3.6/dist-packages (from importlib-metadata>=0.20; python_version < \"3.8\"->spacy) (0.6.0)\n",
            "Requirement already satisfied, skipping upgrade: tqdm<5.0.0,>=4.10.0 in /usr/local/lib/python3.6/dist-packages (from thinc<7.4.0,>=7.3.0->spacy) (4.28.1)\n",
            "Requirement already satisfied, skipping upgrade: certifi>=2017.4.17 in /usr/local/lib/python3.6/dist-packages (from requests<3.0.0,>=2.13.0->spacy) (2019.9.11)\n",
            "Requirement already satisfied, skipping upgrade: chardet<3.1.0,>=3.0.2 in /usr/local/lib/python3.6/dist-packages (from requests<3.0.0,>=2.13.0->spacy) (3.0.4)\n",
            "Requirement already satisfied, skipping upgrade: urllib3<1.25,>=1.21.1 in /usr/local/lib/python3.6/dist-packages (from requests<3.0.0,>=2.13.0->spacy) (1.24.3)\n",
            "Requirement already satisfied, skipping upgrade: idna<2.9,>=2.5 in /usr/local/lib/python3.6/dist-packages (from requests<3.0.0,>=2.13.0->spacy) (2.8)\n",
            "Requirement already satisfied, skipping upgrade: more-itertools in /usr/local/lib/python3.6/dist-packages (from zipp>=0.5->importlib-metadata>=0.20; python_version < \"3.8\"->spacy) (7.2.0)\n"
          ],
          "name": "stdout"
        }
      ]
    },
    {
      "cell_type": "code",
      "metadata": {
        "id": "uOyfwXZ28K3Z",
        "colab_type": "code",
        "colab": {
          "base_uri": "https://localhost:8080/",
          "height": 71
        },
        "outputId": "5ef6d4d6-025a-4499-ca20-29047ebb9e3d"
      },
      "source": [
        "!pip install -U spacy-lookups-data"
      ],
      "execution_count": 93,
      "outputs": [
        {
          "output_type": "stream",
          "text": [
            "Requirement already up-to-date: spacy-lookups-data in /usr/local/lib/python3.6/dist-packages (0.2.0)\n",
            "Requirement already satisfied, skipping upgrade: setuptools in /usr/local/lib/python3.6/dist-packages (from spacy-lookups-data) (41.4.0)\n"
          ],
          "name": "stdout"
        }
      ]
    },
    {
      "cell_type": "code",
      "metadata": {
        "id": "_66m3fkk8K6n",
        "colab_type": "code",
        "colab": {
          "base_uri": "https://localhost:8080/",
          "height": 428
        },
        "outputId": "ea73106b-caa6-4453-ce47-e559633df16a"
      },
      "source": [
        "!python -m spacy download en_core_web_sm"
      ],
      "execution_count": 94,
      "outputs": [
        {
          "output_type": "stream",
          "text": [
            "Requirement already satisfied: en_core_web_sm==2.2.0 from https://github.com/explosion/spacy-models/releases/download/en_core_web_sm-2.2.0/en_core_web_sm-2.2.0.tar.gz#egg=en_core_web_sm==2.2.0 in /usr/local/lib/python3.6/dist-packages (2.2.0)\n",
            "Requirement already satisfied: spacy>=2.2.0 in /usr/local/lib/python3.6/dist-packages (from en_core_web_sm==2.2.0) (2.2.2)\n",
            "Requirement already satisfied: wasabi<1.1.0,>=0.3.0 in /usr/local/lib/python3.6/dist-packages (from spacy>=2.2.0->en_core_web_sm==2.2.0) (0.3.0)\n",
            "Requirement already satisfied: setuptools in /usr/local/lib/python3.6/dist-packages (from spacy>=2.2.0->en_core_web_sm==2.2.0) (41.4.0)\n",
            "Requirement already satisfied: blis<0.5.0,>=0.4.0 in /usr/local/lib/python3.6/dist-packages (from spacy>=2.2.0->en_core_web_sm==2.2.0) (0.4.1)\n",
            "Requirement already satisfied: cymem<2.1.0,>=2.0.2 in /usr/local/lib/python3.6/dist-packages (from spacy>=2.2.0->en_core_web_sm==2.2.0) (2.0.2)\n",
            "Requirement already satisfied: importlib-metadata>=0.20; python_version < \"3.8\" in /usr/local/lib/python3.6/dist-packages (from spacy>=2.2.0->en_core_web_sm==2.2.0) (0.23)\n",
            "Requirement already satisfied: requests<3.0.0,>=2.13.0 in /usr/local/lib/python3.6/dist-packages (from spacy>=2.2.0->en_core_web_sm==2.2.0) (2.21.0)\n",
            "Requirement already satisfied: plac<1.2.0,>=0.9.6 in /usr/local/lib/python3.6/dist-packages (from spacy>=2.2.0->en_core_web_sm==2.2.0) (0.9.6)\n",
            "Requirement already satisfied: numpy>=1.15.0 in /usr/local/lib/python3.6/dist-packages (from spacy>=2.2.0->en_core_web_sm==2.2.0) (1.17.3)\n",
            "Requirement already satisfied: srsly<1.1.0,>=0.1.0 in /usr/local/lib/python3.6/dist-packages (from spacy>=2.2.0->en_core_web_sm==2.2.0) (0.2.0)\n",
            "Requirement already satisfied: murmurhash<1.1.0,>=0.28.0 in /usr/local/lib/python3.6/dist-packages (from spacy>=2.2.0->en_core_web_sm==2.2.0) (1.0.2)\n",
            "Requirement already satisfied: thinc<7.4.0,>=7.3.0 in /usr/local/lib/python3.6/dist-packages (from spacy>=2.2.0->en_core_web_sm==2.2.0) (7.3.1)\n",
            "Requirement already satisfied: preshed<3.1.0,>=3.0.2 in /usr/local/lib/python3.6/dist-packages (from spacy>=2.2.0->en_core_web_sm==2.2.0) (3.0.2)\n",
            "Requirement already satisfied: zipp>=0.5 in /usr/local/lib/python3.6/dist-packages (from importlib-metadata>=0.20; python_version < \"3.8\"->spacy>=2.2.0->en_core_web_sm==2.2.0) (0.6.0)\n",
            "Requirement already satisfied: certifi>=2017.4.17 in /usr/local/lib/python3.6/dist-packages (from requests<3.0.0,>=2.13.0->spacy>=2.2.0->en_core_web_sm==2.2.0) (2019.9.11)\n",
            "Requirement already satisfied: urllib3<1.25,>=1.21.1 in /usr/local/lib/python3.6/dist-packages (from requests<3.0.0,>=2.13.0->spacy>=2.2.0->en_core_web_sm==2.2.0) (1.24.3)\n",
            "Requirement already satisfied: chardet<3.1.0,>=3.0.2 in /usr/local/lib/python3.6/dist-packages (from requests<3.0.0,>=2.13.0->spacy>=2.2.0->en_core_web_sm==2.2.0) (3.0.4)\n",
            "Requirement already satisfied: idna<2.9,>=2.5 in /usr/local/lib/python3.6/dist-packages (from requests<3.0.0,>=2.13.0->spacy>=2.2.0->en_core_web_sm==2.2.0) (2.8)\n",
            "Requirement already satisfied: tqdm<5.0.0,>=4.10.0 in /usr/local/lib/python3.6/dist-packages (from thinc<7.4.0,>=7.3.0->spacy>=2.2.0->en_core_web_sm==2.2.0) (4.28.1)\n",
            "Requirement already satisfied: more-itertools in /usr/local/lib/python3.6/dist-packages (from zipp>=0.5->importlib-metadata>=0.20; python_version < \"3.8\"->spacy>=2.2.0->en_core_web_sm==2.2.0) (7.2.0)\n",
            "\u001b[38;5;2m✔ Download and installation successful\u001b[0m\n",
            "You can now load the model via spacy.load('en_core_web_sm')\n"
          ],
          "name": "stdout"
        }
      ]
    },
    {
      "cell_type": "code",
      "metadata": {
        "id": "XttNbk6h7_HV",
        "colab_type": "code",
        "colab": {}
      },
      "source": [
        "from bs4 import BeautifulSoup\n",
        "from urllib.request import urlopen\n",
        "import numpy as np\n",
        "import pandas as pd\n",
        "from sklearn.metrics.pairwise import cosine_similarity\n",
        "import networkx as nx\n",
        "import spacy"
      ],
      "execution_count": 0,
      "outputs": []
    },
    {
      "cell_type": "code",
      "metadata": {
        "id": "Z4NZy7Jj34v2",
        "colab_type": "code",
        "colab": {}
      },
      "source": [
        "page = urlopen(\"https://www.whitehouse.gov/briefings-statements/remarks-president-trump-state-union-address-2/\")\n",
        "soup = BeautifulSoup(page , 'lxml')"
      ],
      "execution_count": 0,
      "outputs": []
    },
    {
      "cell_type": "code",
      "metadata": {
        "id": "uSVbpRD63Uhx",
        "colab_type": "code",
        "colab": {
          "base_uri": "https://localhost:8080/",
          "height": 173
        },
        "outputId": "f789a2db-6c0d-431d-b1cc-a238e84e30aa"
      },
      "source": [
        "\n",
        "def get_only_text(url):\n",
        "    \"\"\" \n",
        "    return the title and the text of the article\n",
        "    at the specified url\n",
        "    \"\"\"\n",
        "    page = urlopen(url)\n",
        "    soup = BeautifulSoup(page, \"lxml\")\n",
        "    text = ' '.join(map(lambda p: p.text, soup.find_all('p')))\n",
        "  \n",
        "    print (\"=====================\")\n",
        "    print (text)\n",
        "    print (\"=====================\")\n",
        " \n",
        "    return soup.title.text, text    \n",
        " \n",
        "     \n",
        "url=\"https://www.whitehouse.gov/briefings-statements/remarks-president-trump-state-union-address-2/\"\n",
        "text = get_only_text(url)"
      ],
      "execution_count": 123,
      "outputs": [
        {
          "output_type": "stream",
          "text": [
            "=====================\n",
            "\n",
            "\t\t\t\tRemarks\t\t\t \n",
            "Issued on:\n",
            "February 6, 2019\n",
            " February 5, 2019\n",
            "9:07 P.M. EST THE PRESIDENT:  Madam Speaker, Mr. Vice President, Members of Congress, the First Lady of the United States — (applause) — and my fellow Americans: We meet tonight at a moment of unlimited potential.  As we begin a new Congress, I stand here ready to work with you to achieve historic breakthroughs for all Americans. Millions of our fellow citizens are watching us now, gathered in this great chamber, hoping that we will govern not as two parties but as one nation.  (Applause.) The agenda I will lay out this evening is not a Republican agenda or a Democrat agenda.  It’s the agenda of the American people. Many of us have campaigned on the same core promises: to defend American jobs and demand fair trade for American workers; to rebuild and revitalize our nation’s infrastructure; to reduce the price of healthcare and prescription drugs; to create an immigration system that is safe, lawful, modern, and secure; and to pursue a foreign policy that puts America’s interests first. There is a new opportunity in American politics, if only we have the courage, together, to seize it.  (Applause.)  Victory is not winning for our party.  Victory is winning for our country.  (Applause.) This year, America will recognize two important anniversaries that show us the majesty of America’s mission and the power of American pride. In June, we mark 75 years since the start of what General Dwight D. Eisenhower called the “Great Crusade” — the Allied liberation of Europe in World War II.  (Applause.)  On D-Day, June 6th, 1944, 15,000 young American men jumped from the sky, and 60,000 more stormed in from the sea, to save our civilization from tyranny.  Here with us tonight are three of those incredible heroes: Private First Class Joseph Reilly, Staff Sergeant Irving Locker, and Sergeant Herman Zeitchik.  (Applause.)  Please.  Gentlemen, we salute you. In 2019, we also celebrate 50 years since brave young pilots flew a quarter of a million miles through space to plant the American flag on the face of the moon.  Half a century later, we are joined by one of the Apollo 11 astronauts who planted that flag: Buzz Aldrin.  (Applause.)  Thank you, Buzz.  This year, American astronauts will go back to space on American rockets.  (Applause.) In the 20th century, America saved freedom, transformed science, redefined the middle class, and, when you get down to it, there’s nothing anywhere in the world that can compete with America.  (Applause.)  Now we must step boldly and bravely into the next chapter of this great American adventure, and we must create a new standard of living for the 21st century.  An amazing quality of life for all of our citizens is within reach. We can make our communities safer, our families stronger, our culture richer, our faith deeper, and our middle class bigger and more prosperous than ever before.  (Applause.) But we must reject the politics of revenge, resistance, and retribution, and embrace the boundless potential of cooperation, compromise, and the common good.  (Applause.) Together, we can break decades of political stalemate.  We can bridge old divisions, heal old wounds, build new coalitions, forge new solutions, and unlock the extraordinary promise of America’s future.  The decision is ours to make. We must choose between greatness or gridlock, results or resistance, vision or vengeance, incredible progress or pointless destruction. Tonight, I ask you to choose greatness.  (Applause.) Over the last two years, my administration has moved with urgency and historic speed to confront problems neglected by leaders of both parties over many decades. In just over two years since the election, we have launched an unprecedented economic boom — a boom that has rarely been seen before.  There’s been nothing like it.  We have created 5.3 million new jobs and, importantly, added 600,000 new manufacturing jobs — something which almost everyone said was impossible to do.  But the fact is, we are just getting started.  (Applause.) Wages are rising at the fastest pace in decades and growing for blue-collar workers, who I promised to fight for.  They’re growing faster than anyone else thought possible.  Nearly 5 million Americans have been lifted off food stamps.  (Applause.)  The U.S. economy is growing almost twice as fast today as when I took office.  And we are considered, far and away, the hottest economy anywhere in the world.  Not even close.  (Applause.) Unemployment has reached the lowest rate in over half a century.  (Applause.)  African American, Hispanic American, and Asian American unemployment have all reached their lowest levels ever recorded.  (Applause.)  Unemployment for Americans with disabilities has also reached an all-time low.  (Applause.)  More people are working now than at any time in the history of our country — 157 million people at work.  (Applause.) We passed a massive tax cut for working families and doubled the child tax credit.  (Applause.) We virtually ended the estate tax — or death tax, as it is often called — on small businesses for ranchers and also for family farms.  (Applause.) We eliminated the very unpopular Obamacare individual mandate penalty.  (Applause.)  And to give critically ill patients access to lifesaving cures, we passed, very importantly, Right to Try.  (Applause.) My administration has cut more regulations in a short period of time than any other administration during its entire tenure.  (Applause.)  Companies are coming back to our country in large numbers thanks to our historic reductions in taxes and regulations.  (Applause.) And we have unleashed a revolution in American energy.  The United States is now the number-one producer of oil and natural gas anywhere in the world.  (Applause.)  And now, for the first time in 65 years, we are a net exporter of energy.  (Applause.) After 24 months of rapid progress, our economy is the envy of the world, our military is the most powerful on Earth, by far, and America — (applause) — America is again winning each and every day.  (Applause.) Members of Congress: The state of our union is strong.  (Applause.) AUDIENCE:  USA!  USA!  USA! THE PRESIDENT:  That sounds so good.  (Laughter.) Our country is vibrant and our economy is thriving like never before. On Friday, it was announced that we added another 304,000 jobs last month alone — almost double the number expected.  (Applause.)  An economic miracle is taking place in the United States, and the only thing that can stop it are foolish wars, politics, or ridiculous partisan investigations.  (Applause.) If there is going to be peace and legislation, there cannot be war and investigation.  It just doesn’t work that way. We must be united at home to defeat our adversaries abroad.  This new era of cooperation can start with finally confirming the more than 300 highly qualified nominees who are still stuck in the Senate.  In some cases, years and years waiting.  Not right.  (Applause.)  The Senate has failed to act on these nominations, which is unfair to the nominees and very unfair to our country. Now is the time for bipartisan action.  Believe it or not, we have already proven that that’s possible. In the last Congress, both parties came together to pass unprecedented legislation to confront the opioid crisis, a sweeping new farm bill, historic VA reforms.  And after four decades of rejection, we passed VA Accountability so that we can finally terminate those who mistreat our wonderful veterans.  (Applause.) And just weeks ago, both parties united for groundbreaking criminal justice reform.  They said it couldn’t be done.  (Applause.) Last year, I heard, through friends, the story of Alice Johnson.  I was deeply moved.  In 1997, Alice was sentenced to life in prison as a first-time non-violent drug offender.  Over the next 22 years, she became a prison minister, inspiring others to choose a better path.  She had a big impact on that prison population, and far beyond. Alice’s story underscores the disparities and unfairness that can exist in criminal sentencing, and the need to remedy this total injustice.  She served almost that 22 years and had expected to be in prison for the remainder of her life. In June, I commuted Alice’s sentence.  When I saw Alice’s beautiful family greet her at the prison gates, hugging and kissing and crying and laughing, I knew I did something right.  Alice is with us tonight, and she is a terrific woman.  Terrific.  Alice, please.  (Applause.) Alice, thank you for reminding us that we always have the power to shape our own destiny.  Thank you very much, Alice.  Thank you very much.  (Applause.) Inspired by stories like Alice’s, my administration worked closely with members of both parties to sign the FIRST STEP Act into law.  Big deal.  (Applause.)  It’s a big deal. This legislation reformed sentencing laws that have wrongly and disproportionately harmed the African American community.  The FIRST STEP Act gives non-violent offenders the chance to reenter society as productive, law-abiding citizens.  Now states across the country are following our lead.  America is a nation that believes in redemption. We are also joined tonight by Matthew Charles from Tennessee.  In 1996, at the age of 30, Matthew was sentenced to 35 years for selling drugs and related offenses.  Over the next two decades, he completed more than 30 Bible studies, became a law clerk, and mentored many of his fellow inmates. Now, Matthew is the very first person to be released from prison under the FIRST STEP Act.  (Applause.)  Matthew, please.  Thank you, Matthew.  Welcome home.  (Applause.) Now, Republicans and Democrats must join forces again to confront an urgent national crisis.  Congress has 10 days left to pass a bill that will fund our government, protect our homeland, and secure our very dangerous southern border. Now is the time for Congress to show the world that America is committed to ending illegal immigration and putting the ruthless coyotes, cartels, drug dealers, and human traffickers out of business.  (Applause.) As we speak, large, organized caravans are on the march to the United States.  We have just heard that Mexican cities, in order to remove the illegal immigrants from their communities, are getting trucks and buses to bring them up to our country in areas where there is little border protection.  I have ordered another 3,750 troops to our southern border to prepare for this tremendous onslaught. This is a moral issue.  The lawless state of our southern border is a threat to the safety, security, and financial wellbeing of all America.  We have a moral duty to create an immigration system that protects the lives and jobs of our citizens.  This includes our obligation to the millions of immigrants living here today who followed the rules and respected our laws.  Legal immigrants enrich our nation and strengthen our society in countless ways.  (Applause.) I want people to come into our country in the largest numbers ever, but they have to come in legally.  (Applause.) Tonight, I am asking you to defend our very dangerous southern border out of love and devotion to our fellow citizens and to our country. No issue better illustrates the divide between America’s working class and America’s political class than illegal immigration.  Wealthy politicians and donors push for open borders while living their lives behind walls, and gates, and guards.  (Applause.) Meanwhile, working-class Americans are left to pay the price for mass illegal migration: reduced jobs, lower wages, overburdened schools, hospitals that are so crowded you can’t get in, increased crime, and a depleted social safety net.  Tolerance for illegal immigration is not compassionate; it is actually very cruel.  (Applause.) One in three women is sexually assaulted on the long journey north.  Smugglers use migrant children as human pawns to exploit our laws and gain access to our country.  Human traffickers and sex traffickers take advantage of the wide-open areas between our ports of entry to smuggle thousands of young girls and women into the United States and to sell them into prostitution and modern-day slavery. Tens of thousands of innocent Americans are killed by lethal drugs that cross our border and flood into our cities, including meth, heroin, cocaine, and fentanyl. The savage gang, MS-13, now operates in at least 20 different American states, and they almost all come through our southern border.  Just yesterday, an MS-13 gang member was taken into custody for a fatal shooting on a subway platform in New York City.  We are removing these gang members by the thousands.  But until we secure our border, they’re going to keep streaming right back in. Year after year, countless Americans are murdered by criminal illegal aliens.  I’ve gotten to know many wonderful Angel moms and dads, and families.  No one should ever have to suffer the horrible heartache that they have had to endure. Here tonight is Debra Bissell.  Just three weeks ago, Debra’s parents, Gerald and Sharon, were burglarized and shot to death in their Reno, Nevada home by an illegal alien.  They were in their eighties, and are survived by 4 children, 11 grandchildren, and 20 great-grandchildren.  Also here tonight are Gerald and Sharon’s granddaughter Heather, and great-granddaughter Madison. To Debra, Heather, Madison, please stand.  Few can understand your pain.  Thank you.  And thank you for being here.  Thank you very much.  (Applause.) I will never forget, and I will fight for the memory of Gerald and Sharon that it should never happen again.  Not one more American life should be lost because our nation failed to control its very dangerous border. In the last two years, our brave ICE officers made 266,000 arrests of criminal aliens, including those charged or convicted of nearly 100,000 assaults, 30,000 sex crimes, and 4,000 killings or murders. We are joined tonight by one of those law enforcement heroes: ICE Special Agent Elvin Hernandez.  When Elvin — (applause) — thank you. When Elvin was a boy, he and his family legally immigrated to the United States from the Dominican Republic.  At the age of eight, Elvin told his dad he wanted to become a Special Agent.  Today, he leads investigations into the scourge of international sex trafficking. Elvin says that, “If I can make sure these young girls get their justice, I’ve [really] done my job.”  Thanks to his work, and that of his incredible colleagues, more than 300 women and girls have been rescued from the horror of this terrible situation, and more than 1,500 sadistic traffickers have been put behind bars.  (Applause.)  Thank you, Elvin. We will always support the brave men and women of law enforcement, and I pledge to you tonight that I will never abolish our heroes from ICE.  Thank you.  (Applause.) My administration has sent to Congress a commonsense proposal to end the crisis on the southern border.  It includes humanitarian assistance, more law enforcement, drug detection at our ports, closing loopholes that enable child smuggling, and plans for a new physical barrier, or wall, to secure the vast areas between our ports of entry. In the past, most of the people in this room voted for a wall, but the proper wall never got built.  I will get it built.  (Applause.) This is a smart, strategic, see-through steel barrier — not just a simple concrete wall.  It will be deployed in the areas identified by the border agents as having the greatest need.  And these agents will tell you: Where walls go up, illegal crossings go way, way down.  (Applause.) San Diego used to have the most illegal border crossings in our country.  In response, a strong security wall was put in place.  This powerful barrier almost completely ended illegal crossings. The border city of El Paso, Texas used to have extremely high rates of violent crime — one of the highest in the entire country, and considered one of our nation’s most dangerous cities.  Now, immediately upon its building, with a powerful barrier in place, El Paso is one of the safest cities in our country.  Simply put: Walls work, and walls save lives.  (Applause.) So let’s work together, compromise, and reach a deal that will truly make America safe. As we work to defend our people’s safety, we must also ensure our economic resurgence continues at a rapid pace.  No one has benefitted more from our thriving economy than women, who have filled 58 percent of the newly created jobs last year.  (Applause.) You weren’t supposed to do that.  Thank you very much.  Thank you very much. All Americans can be proud that we have more women in the workforce than ever before.  (Applause.) Don’t sit yet.  You’re going to like this.  (Laughter.) And exactly one century after Congress passed the constitutional amendment giving women the right to vote, we also have more women serving in Congress than at any time before.  (Applause.) AUDIENCE:  USA!  USA!  USA! THE PRESIDENT:  That’s great.  Really great.  And congratulations.  That’s great. As part of our commitment to improving opportunity for women everywhere, this Thursday we are launching the first-ever government-wide initiative focused on economic empowerment for women in developing countries. To build on — (applause) — thank you.  To build on our incredible economic success, one priority is paramount: reversing decades of calamitous trade policies.  So bad. We are now making it clear to China that, after years of targeting our industries and stealing our intellectual property, the theft of American jobs and wealth has come to an end.  (Applause.)  Therefore, we recently imposed tariffs on $250 billion of Chinese goods, and now our Treasury is receiving billions and billions of dollars. But I don’t blame China for taking advantage of us; I blame our leaders and representatives for allowing this travesty to happen.  I have great respect for President Xi, and we are now working on a new trade deal with China.  But it must include real, structural change to end unfair trade practices, reduce our chronic trade deficit, and protect American jobs.  (Applause.)  Thank you. Another historic trade blunder was the catastrophe known as NAFTA.  I have met the men and women of Michigan, Ohio, Pennsylvania, Indiana, New Hampshire, and many other states whose dreams were shattered by the signing of NAFTA.  For years, politicians promised them they would renegotiate for a better deal, but no one ever tried, until now. Our new U.S.-Mexico-Canada Agreement, the USMCA, will replace NAFTA and deliver for American workers like they haven’t had delivered to for a long time.  I hope you can pass the USMCA into law so that we can bring back our manufacturing jobs in even greater numbers, expand American agriculture, protect intellectual property, and ensure that more cars are proudly stamped with our four beautiful words: “Made in the USA.”  (Applause.) Tonight, I am also asking you to pass the United States Reciprocal Trade Act, so that if another country places an unfair tariff on an American product, we can charge them the exact same tariff on the exact same product that they sell to us.  (Applause.) Both parties should be able to unite for a great rebuilding of America’s crumbling infrastructure.  (Applause.) I know that Congress is eager to pass an infrastructure bill, and I am eager to work with you on legislation to deliver new and important infrastructure investment, including investments in the cutting-edge industries of the future.  This is not an option.  This is a necessity. The next major priority for me, and for all of us, should be to lower the cost of healthcare and prescription drugs, and to protect patients with preexisting conditions.  (Applause.) Already, as a result of my administration’s efforts, in 2018, drug prices experienced their single largest decline in 46 years.  (Applause.) But we must do more.  It’s unacceptable that Americans pay vastly more than people in other countries for the exact same drugs, often made in the exact same place.  This is wrong, this is unfair, and together we will stop it — and we’ll stop it fast.  (Applause.) I am asking Congress to pass legislation that finally takes on the problem of global freeloading and delivers fairness and price transparency for American patients, finally.  (Applause.) We should also require drug companies, insurance companies, and hospitals to disclose real prices to foster competition and bring costs way down.  (Applause.) No force in history has done more to advance the human condition than American freedom.  In recent years — (applause) — in recent years, we have made remarkable progress in the fight against HIV and AIDS.  Scientific breakthroughs have brought a once-distant dream within reach.  My budget will ask Democrats and Republicans to make the needed commitment to eliminate the HIV epidemic in the United States within 10 years.  We have made incredible strides.  Incredible.  (Applause.)  Together, we will defeat AIDS in America and beyond.  (Applause.) Tonight, I am also asking you to join me in another fight that all Americans can get behind: the fight against childhood cancer.  (Applause.) Joining Melania in the gallery this evening is a very brave 10-year-old girl, Grace Eline.  Every birthday — (applause) — hi, Grace.  (Laughter.)  Every birthday since she was four, Grace asked her friends to donate to St. Jude’s Children’s Hospital.  She did not know that one day she might be a patient herself.  That’s what happened. Last year, Grace was diagnosed with brain cancer. Immediately, she began radiation treatment.  At the same time, she rallied her community and raised more than $40,000 for the fight against cancer.  (Applause.)  When Grace completed treatment last fall, her doctors and nurses cheered — they loved her; they still love her — with tears in their eyes as she hung up a poster that read: “Last day of chemo.”  (Applause.)  Thank you very much, Grace.  You are a great inspiration to everyone in this room.  Thank you very much. Many childhood cancers have not seen new therapies in decades.  My budget will ask Congress for $500 million over the next 10 years to fund this critical lifesaving research. To help support working parents, the time has come to pass School Choice for Americans’ children.  (Applause.)  I am also proud to be the first President to include in my budget a plan for nationwide paid family leave, so that every new parent has the chance to bond with their newborn child.  (Applause.) There could be no greater contrast to the beautiful image of a mother holding her infant child than the chilling displays our nation saw in recent days.  Lawmakers in New York cheered with delight upon the passage of legislation that would allow a baby to be ripped from the mother’s womb moments from birth.  These are living, feeling, beautiful babies who will never get the chance to share their love and their dreams with the world.  And then, we had the case of the Governor of Virginia where he stated he would execute a baby after birth. To defend the dignity of every person, I am asking Congress to pass legislation to prohibit the late-term abortion of children who can feel pain in the mother’s womb.  (Applause.) Let us work together to build a culture that cherishes innocent life.  (Applause.)  And let us reaffirm a fundamental truth: All children — born and unborn — are made in the holy image of God. The final part of my agenda is to protect American security.  Over the last two years, we have begun to fully rebuild the United States military, with $700 billion last year and $716 billion this year. We are also getting other nations to pay their fair share.  (Applause.)  Finally.  Finally.  For years, the United States was being treated very unfairly by friends of ours, members of NATO.  But now we have secured, over the last couple of years, more than $100 billion of increase in defense spending from our NATO Allies.  (Applause.)  They said it couldn’t be done. As part of our military build-up, the United States is developing a state-of-the-art missile defense system. Under my administration, we will never apologize for advancing America’s interests. For example, decades ago, the United States entered into a treaty with Russia in which we agreed to limit and reduce our missile capability.  While we followed the agreement and the rules to the letter, Russia repeatedly violated its terms.  It’s been going on for many years.  That is why I announced that the United States is officially withdrawing from the Intermediate-Range Nuclear Forces Treaty, or INF Treaty. Perhaps — (applause) — we really have no choice.  Perhaps we can negotiate a different agreement, adding China and others, or perhaps we can’t — in which case, we will outspend and out-innovate all others by far.  (Applause.) As part of a bold new diplomacy, we continue our historic push for peace on the Korean Peninsula.  Our hostages have come home, nuclear testing has stopped, and there has not been a missile launch in more than 15 months.  If I had not been elected President of the United States, we would right now, in my opinion, be in a major war with North Korea.  (Applause.) Much work remains to be done, but my relationship with Kim Jong Un is a good one.  Chairman Kim and I will meet again on February 27th and 28th in Vietnam.  (Applause.) Two weeks ago, the United States officially recognized the legitimate government of Venezuela — (applause) — and its new President, Juan Guaidó.  (Applause.) We stand with the Venezuelan people in their noble quest for freedom, and we condemn the brutality of the Maduro regime, whose socialist policies have turned that nation from being the wealthiest in South America into a state of abject poverty and despair.  (Applause.) Here in the United States, we are alarmed by the new calls to adopt socialism in our country. AUDIENCE:  Booo — THE PRESIDENT:  America was founded on liberty and independence, and not government coercion, domination, and control.  (Applause.)  We are born free and we will stay free.  (Applause.) AUDIENCE:  USA!  USA!  USA! THE PRESIDENT:  Tonight, we renew our resolve that America will never be a socialist country.  (Applause.) AUDIENCE:  USA!  USA!  USA! THE PRESIDENT:  One of the most complex set of challenges we face, and have for many years, is in the Middle East.  Our approach is based on principled realism, not discredited theories that have failed for decades to yield progress.  For this reason, my administration recognized the true capital of Israel, and proudly opened the American Embassy in Jerusalem.  (Applause.) Our brave troops have now been fighting in the Middle East for almost 19 years.  In Afghanistan and Iraq, nearly 7,000 American heroes have given their lives.  More than 52,000 Americans have been badly wounded.  We have spent more than $7 trillion in fighting wars in the Middle East. As a candidate for President, I loudly pledged a new approach.  Great nations do not fight endless wars.  (Applause.) When I took office, ISIS controlled more than 20,000 square miles in Iraq and Syria — just two years ago.  Today, we have liberated virtually all of the territory from the grip of these bloodthirsty monsters. Now, as we work with our allies to destroy the remnants of ISIS, it is time to give our brave warriors in Syria a warm welcome home. I have also accelerated our negotiations to reach — if possible — a political settlement in Afghanistan.  The opposing side is also very happy to be negotiating.  Our troops have fought with unmatched valor.  And thanks to their bravery, we are now able to pursue a possible political solution to this long and bloody conflict.  (Applause.) In Afghanistan, my administration is holding constructive talks with a number of Afghan groups, including the Taliban.  As we make progress in these negotiations, we will be able to reduce our troop’s presence and focus on counterterrorism.  And we will indeed focus on counterterrorism. We do not know whether we will achieve an agreement, but we do know that, after two decades of war, the hour has come to at least try for peace.  And the other side would like to do the same thing.  It’s time.  (Applause.) Above all, friend and foe alike must never doubt this nation’s power and will to defend our people.  Eighteen years ago, violent terrorists attacked the USS Cole.  And last month, American forces killed one of the leaders of that attack. (Applause.) We are honored to be joined tonight by Tom Wibberley, whose son, Navy Seaman Craig Wibberley, was one of the 17 sailors we tragically lost.  Tom, we vow to always remember the heroes of the USS Cole.  (Applause.)  Thank you, Tom. My administration has acted decisively to confront the world’s leading state sponsor of terror: the radical regime in Iran.  It is a radical regime.  They do bad, bad things. To ensure this corrupt dictatorship never acquires nuclear weapons, I withdrew the United States from the disastrous Iran nuclear deal.  (Applause.) And last fall, we put in place the toughest sanctions ever imposed by us on a country. We will not avert our eyes from a regime that chants “Death to America” and threatens genocide against the Jewish people.  (Applause.)  We must never ignore the vile poison of anti-Semitism, or those who spread its venomous creed.  With one voice, we must confront this hatred anywhere and everywhere it occurs. Just months ago, 11 Jewish-Americans were viciously murdered in an anti-Semitic attack on the Tree of Life synagogue in Pittsburgh.  SWAT Officer Timothy Matson raced into the gunfire and was shot seven times chasing down the killer.  And he was very successful.  Timothy has just had his 12th surgery, and he is going in for many more.  But he made the trip to be here with us tonight.  Officer Matson, please.  (Applause.)  Thank you.  We are forever grateful.  Thank you very much. Tonight, we are also joined by Pittsburgh survivor, Judah Samet.  He arrived at the synagogue as the massacre began.  But not only did Judah narrowly escape death last fall, more than seven decades ago, he narrowly survived the Nazi concentration camps.  Today is Judah’s 81st birthday.  (Applause.) AUDIENCE:  (Sings “Happy Birthday.”)  (Applause.) MR. SAMET:  Thank you! THE PRESIDENT:  They wouldn’t do that for me, Judah.  (Laughter.) Judah says he can still remember the exact moment, nearly 75 years ago, after 10 months in a concentration camp, when he and his family were put on a train and told they were going to another camp.  Suddenly, the train screeched to a very strong halt.  A soldier appeared.  Judah’s family braced for the absolute worst.  Then, his father cried out with joy, “It’s the Americans!  It’s the Americans!”  (Applause.)  Thank you. A second Holocaust survivor who is here tonight, Joshua Kaufman, was a prisoner at Dachau.  He remembers watching through a hole in the wall of a cattle car as American soldiers rolled in with tanks.  “To me,” Joshua recalls, “the American soldiers were proof that God exists, and they came down from the sky.”  They came down from Heaven. I began this evening by honoring three soldiers who fought on D-Day in the Second World War.  One of them was Herman Zeitchik.  But there is more to Herman’s story.  A year after he stormed the beaches of Normandy, Herman was one of the American soldiers who helped liberate Dachau.  (Applause.)  He was one of the Americans who helped rescue Joshua from that hell on Earth. Almost 75 years later, Herman and Joshua are both together in the gallery tonight, seated side-by-side, here in the home of American freedom.  Herman and Joshua, your presence this evening is very much appreciated.  Thank you very much.  (Applause.)  Thank you. When American soldiers set out beneath the dark skies over the English Channel in the early hours of D-Day, 1944, they were just young men of 18 and 19, hurtling on fragile landing craft toward the most momentous battle in the history of war. They did not know if they would survive the hour.  They did not know if they would grow old.  But they knew that America had to prevail.  Their cause was this nation and generations yet unborn. Why did they do it?  They did it for America.  They did it for us. Everything that has come since — our triumph over communism, our giant leaps of science and discovery, our unrivaled progress towards equality and justice — all of it is possible thanks to the blood and tears and courage and vision of the Americans who came before. Think of this Capitol.  Think of this very Chamber, where lawmakers before you voted to end slavery, to build the railroads and the highways, and defeat fascism, to secure civil rights, and to face down evil empires. Here tonight, we have legislators from across this magnificent republic.  You have come from the rocky shores of Maine and the volcanic peaks of Hawaii; from the snowy woods of Wisconsin and the red deserts of Arizona; from the green farms of Kentucky and the golden beaches of California.  Together, we represent the most extraordinary nation in all of history. What will we do with this moment?  How will we be remembered? I ask the men and women of this Congress: Look at the opportunities before us.  Our most thrilling achievements are still ahead.  Our most exciting journeys still await.  Our biggest victories are still to come.  We have not yet begun to dream. We must choose whether we are defined by our differences or whether we dare to transcend them. We must choose whether we squander our great inheritance or whether we proudly declare that we are Americans. We do the incredible.  We defy the impossible.  We conquer the unknown. This is the time to reignite the American imagination.  This is the time to search for the tallest summit and set our sights on the brightest star.  This is the time to rekindle the bonds of love and loyalty and memory that link us together as citizens, as neighbors, as patriots. This is our future, our fate, and our choice to make.  I am asking you to choose greatness. No matter the trials we face, no matter the challenges to come, we must go forward together. We must keep America first in our hearts.  We must keep freedom alive in our souls.  And we must always keep faith in America’s destiny that one nation, under God, must be the hope and the promise, and the light and the glory, among all the nations of the world. Thank you.  God bless you.  And God bless America.  Thank you very much.  Thank you.  (Applause.) END                  10:29 P.M. EST\n",
            "=====================\n"
          ],
          "name": "stdout"
        }
      ]
    },
    {
      "cell_type": "code",
      "metadata": {
        "id": "93FDx45K-Tat",
        "colab_type": "code",
        "colab": {}
      },
      "source": [
        "nlp = spacy.load('en_core_web_sm')"
      ],
      "execution_count": 0,
      "outputs": []
    },
    {
      "cell_type": "code",
      "metadata": {
        "id": "Lsw-u8SY7ufm",
        "colab_type": "code",
        "colab": {}
      },
      "source": [
        "doc = nlp(str(text))"
      ],
      "execution_count": 0,
      "outputs": []
    },
    {
      "cell_type": "code",
      "metadata": {
        "id": "rR6UH8Bg1MW-",
        "colab_type": "code",
        "colab": {
          "base_uri": "https://localhost:8080/",
          "height": 1000
        },
        "outputId": "968c41f1-7720-4ef4-8275-fae6bc55a890"
      },
      "source": [
        "sentences = []\n",
        "for i, token in enumerate(doc.sents):\n",
        "        print('-->Sentence %d: %s' % (i, token.text))\n",
        "        sentences = [sent.string.strip() for sent in doc.sents]"
      ],
      "execution_count": 100,
      "outputs": [
        {
          "output_type": "stream",
          "text": [
            "-->Sentence 0: ('Remarks by President Trump in State of the Union Address | The White House', '\\n\\t\\t\\t\\tRemarks\\t\\t\\t \\nIssued on:\\nFebruary 6, 2019\\n February 5,\n",
            "-->Sentence 1: 2019\\n9:07 P.M. EST THE PRESIDENT:\\xa0\n",
            "-->Sentence 2: Madam Speaker, Mr. Vice President, Members of Congress, the First Lady of the United States — (applause) — and my fellow Americans: We meet tonight at a moment of unlimited potential.\\xa0 As we begin a new Congress, I stand here ready to work with you to achieve historic breakthroughs for all Americans.\n",
            "-->Sentence 3: Millions of our fellow citizens are watching us now, gathered in this great chamber, hoping that we will govern not as two parties but as one nation.\\xa0 (Applause.)\n",
            "-->Sentence 4: The agenda I will lay out this evening is not a Republican agenda or a Democrat agenda.\\xa0\n",
            "-->Sentence 5: It’s the agenda of the American people.\n",
            "-->Sentence 6: Many of us have campaigned on the same core promises: to defend American jobs and demand fair trade for American workers; to rebuild and revitalize our nation’s infrastructure; to reduce the price of healthcare and prescription drugs; to create an immigration system that is safe, lawful, modern, and secure; and to pursue a foreign policy that puts America’s interests first.\n",
            "-->Sentence 7: There is a new opportunity in American politics, if only we have the courage, together, to seize it.\\xa0 (Applause.)\\xa0\n",
            "-->Sentence 8: Victory is not winning for\n",
            "-->Sentence 9: our party.\\xa0 Victory is winning for our country.\\xa0 (Applause.)\n",
            "-->Sentence 10: This year, America will recognize two important anniversaries that show us the majesty of America’s mission and the power of American pride.\n",
            "-->Sentence 11: In June, we mark 75 years since the start of what General Dwight D. Eisenhower called the “Great Crusade” — the Allied liberation of Europe in World War II.\\xa0 (Applause.)\\xa0\n",
            "-->Sentence 12: On D-Day, June 6th, 1944, 15,000 young American men jumped from the sky, and 60,000 more stormed in from the sea, to save our civilization from tyranny.\\xa0 Here with us tonight\n",
            "-->Sentence 13: are three of those incredible heroes:\n",
            "-->Sentence 14: Private First Class Joseph Reilly, Staff Sergeant Irving Locker, and Sergeant Herman Zeitchik.\\xa0 (Applause.)\\xa0\n",
            "-->Sentence 15: Please.\\xa0 Gentlemen, we salute you.\n",
            "-->Sentence 16: In 2019, we also celebrate 50 years since brave young pilots flew a quarter of a million miles through space to plant the American flag on the face of the moon.\\xa0 Half a century later, we are joined by one of the Apollo 11 astronauts who planted that flag: Buzz Aldrin.\\xa0 (Applause.)\\xa0\n",
            "-->Sentence 17: Thank you, Buzz.\\xa0\n",
            "-->Sentence 18: This year, American astronauts will go back to space on American rockets.\\xa0 (Applause.)\n",
            "-->Sentence 19: In the 20th century, America saved freedom, transformed science, redefined the middle class, and, when you get down to it, there’s nothing anywhere in the world that can compete with America.\\xa0 (Applause.)\\xa0 Now we must step boldly and bravely into the next chapter of this great American adventure, and we must create a new standard of living for the 21st century.\\xa0\n",
            "-->Sentence 20: An amazing quality of life for all of our citizens is within reach.\n",
            "-->Sentence 21: We can make our communities safer, our families stronger, our culture richer, our faith deeper, and our middle class bigger and more prosperous than ever before.\\xa0\n",
            "-->Sentence 22: (Applause.)\n",
            "-->Sentence 23: But we must reject the politics of revenge, resistance, and retribution, and embrace the boundless potential of cooperation, compromise, and the common good.\\xa0 (Applause.)\n",
            "-->Sentence 24: Together, we can break decades of political stalemate.\\xa0\n",
            "-->Sentence 25: We can bridge old divisions, heal old wounds, build new coalitions, forge new solutions, and unlock the extraordinary promise of America’s future.\\xa0\n",
            "-->Sentence 26: The decision is ours to make.\n",
            "-->Sentence 27: We must choose between greatness or gridlock, results or resistance, vision or vengeance, incredible progress or pointless destruction.\n",
            "-->Sentence 28: Tonight, I ask you to choose greatness.\\xa0 (Applause.)\n",
            "-->Sentence 29: Over the last two years, my administration has moved with urgency and historic speed to confront problems neglected by leaders of both parties over many decades.\n",
            "-->Sentence 30: In just over two years since the election, we have launched an unprecedented economic boom — a boom that has rarely been seen before.\\xa0\n",
            "-->Sentence 31: There’s been nothing like\n",
            "-->Sentence 32: it.\\xa0\n",
            "-->Sentence 33: We have created 5.3 million new jobs and, importantly, added 600,000 new manufacturing jobs — something which almost everyone said was impossible to do.\\xa0\n",
            "-->Sentence 34: But the fact is, we are just getting started.\\xa0 (Applause.)\n",
            "-->Sentence 35: Wages are rising at the fastest pace in decades and growing for blue-collar workers, who I promised to fight for.\\xa0\n",
            "-->Sentence 36: They’re growing faster than anyone else thought possible.\\xa0 Nearly 5 million Americans have been lifted off food stamps.\\xa0 (Applause.)\\xa0\n",
            "-->Sentence 37: The U.S. economy is growing almost twice as fast today as when I took office.\\xa0\n",
            "-->Sentence 38: And we are considered, far and away, the hottest economy anywhere in the world.\\xa0\n",
            "-->Sentence 39: Not even close.\\xa0 (Applause.)\n",
            "-->Sentence 40: Unemployment has reached the lowest rate in over half a century.\\xa0 (Applause.)\\xa0 African American, Hispanic American, and Asian American unemployment have all reached their lowest levels ever recorded.\\xa0 (Applause.)\\xa0\n",
            "-->Sentence 41: Unemployment for Americans with disabilities has also reached an all-time low.\\xa0 (Applause.)\\xa0 More people are working now than at any time in the history of our country — 157 million people at work.\\xa0 (Applause.)\n",
            "-->Sentence 42: We passed a massive tax cut for working families and doubled the child tax credit.\\xa0 (Applause.)\n",
            "-->Sentence 43: We virtually ended the estate tax — or death tax, as it is often called — on small businesses for ranchers and also for family farms.\\xa0 (Applause.)\n",
            "-->Sentence 44: We eliminated the very unpopular Obamacare individual mandate penalty.\\xa0 (Applause.)\\xa0 And to give critically ill patients access to lifesaving cures, we passed, very importantly, Right to Try.\\xa0 (Applause.)\n",
            "-->Sentence 45: My administration has cut more regulations in a short period of time than any other administration during its entire tenure.\\xa0 (Applause.)\\xa0 Companies are coming back to our country in large numbers thanks to our historic reductions in taxes and regulations.\\xa0 (Applause.)\n",
            "-->Sentence 46: And we have unleashed a revolution in American energy.\\xa0\n",
            "-->Sentence 47: The United States is now the number-one producer of oil and natural gas anywhere in the world.\\xa0 (Applause.)\\xa0\n",
            "-->Sentence 48: And now, for the first time in 65 years, we are a net exporter of energy.\\xa0\n",
            "-->Sentence 49: (Applause.)\n",
            "-->Sentence 50: After 24 months of rapid progress, our economy is the envy of the world, our military is the most powerful on Earth, by far, and America — (applause)\n",
            "-->Sentence 51: — America is again winning each and every day.\\xa0\n",
            "-->Sentence 52: (Applause.)\n",
            "-->Sentence 53: Members of Congress: The state of our union is strong.\\xa0\n",
            "-->Sentence 54: (Applause.) AUDIENCE:\\xa0\n",
            "-->Sentence 55: USA!\\xa0 USA!\\xa0 USA!\n",
            "-->Sentence 56: THE PRESIDENT:\\xa0 That sounds so good.\\xa0 (Laughter.)\n",
            "-->Sentence 57: Our country is vibrant and our economy is thriving like never before.\n",
            "-->Sentence 58: On Friday, it was announced that we added another 304,000 jobs last month alone — almost double the number expected.\\xa0 (Applause.)\\xa0\n",
            "-->Sentence 59: An economic miracle is taking place in the United States, and the only thing that can stop it are foolish wars, politics, or ridiculous partisan investigations.\\xa0 (Applause.)\n",
            "-->Sentence 60: If there is going to be peace and legislation, there cannot be war and investigation.\\xa0\n",
            "-->Sentence 61: It just doesn’t work that way.\n",
            "-->Sentence 62: We must be united at home to defeat our adversaries abroad.\\xa0\n",
            "-->Sentence 63: This new era of cooperation can start with finally confirming the more than 300 highly qualified nominees who are still stuck in the Senate.\\xa0\n",
            "-->Sentence 64: In some cases, years and years waiting.\\xa0 Not right.\\xa0 (Applause.)\\xa0\n",
            "-->Sentence 65: The Senate has failed to act on these nominations, which is unfair to the nominees and very unfair to our country.\n",
            "-->Sentence 66: Now is the time for bipartisan action.\\xa0 Believe it or not, we have already proven that that’s possible.\n",
            "-->Sentence 67: In the last Congress, both parties came together to pass unprecedented legislation to confront the opioid crisis, a sweeping new farm bill, historic VA reforms.\\xa0\n",
            "-->Sentence 68: And after four decades of rejection, we passed VA Accountability so that we can finally terminate those who mistreat our wonderful veterans.\\xa0\n",
            "-->Sentence 69: (Applause.)\n",
            "-->Sentence 70: And just weeks ago, both parties united for groundbreaking criminal justice reform.\\xa0\n",
            "-->Sentence 71: They said it couldn’t be done.\\xa0\n",
            "-->Sentence 72: (Applause.)\n",
            "-->Sentence 73: Last year, I heard, through friends, the story of Alice Johnson.\\xa0\n",
            "-->Sentence 74: I was deeply moved.\\xa0\n",
            "-->Sentence 75: In 1997, Alice was sentenced to life in prison as a first-time non-violent drug offender.\\xa0 Over the next 22 years, she became a prison minister, inspiring others to choose a better path.\\xa0 She had a big impact on that prison population, and far beyond.\n",
            "-->Sentence 76: Alice’s story underscores the disparities and unfairness that can exist in criminal sentencing, and the need to remedy this total injustice.\\xa0\n",
            "-->Sentence 77: She served almost that 22 years and had expected to be in prison for the remainder of her life.\n",
            "-->Sentence 78: In June, I commuted Alice’s sentence.\\xa0\n",
            "-->Sentence 79: When I saw Alice’s beautiful family greet her at the prison gates, hugging and kissing and crying and laughing, I knew I did something\n",
            "-->Sentence 80: right.\\xa0 Alice is with us tonight, and she is a terrific woman.\\xa0 Terrific.\\xa0 Alice, please.\\xa0 (Applause.)\n",
            "-->Sentence 81: Alice, thank you for reminding us that we always have the power to shape our own destiny.\\xa0 Thank you very much, Alice.\\xa0 Thank you very much.\\xa0 (Applause.)\n",
            "-->Sentence 82: Inspired by stories like Alice’s, my administration worked closely with members of both parties to sign the FIRST STEP Act into law.\\xa0 Big deal.\\xa0 (Applause.)\\xa0\n",
            "-->Sentence 83: It’s a big deal.\n",
            "-->Sentence 84: This legislation reformed sentencing laws that have wrongly and disproportionately harmed the African American community.\\xa0\n",
            "-->Sentence 85: The FIRST STEP Act gives non-violent offenders the chance to reenter society as productive, law-abiding citizens.\\xa0 Now states across the country are following our lead.\\xa0 America is a nation that believes in redemption.\n",
            "-->Sentence 86: We are also joined tonight by Matthew Charles from Tennessee.\\xa0\n",
            "-->Sentence 87: In 1996, at the age of 30, Matthew was sentenced to 35 years for selling drugs and related offenses.\\xa0 Over the next two decades, he completed more than 30 Bible studies, became a law clerk, and mentored many of his fellow inmates.\n",
            "-->Sentence 88: Now, Matthew is the very first person to be released from prison under the FIRST STEP Act.\\xa0 (Applause.)\\xa0\n",
            "-->Sentence 89: Matthew, please.\\xa0 Thank you, Matthew.\\xa0 Welcome home.\\xa0\n",
            "-->Sentence 90: (Applause.)\n",
            "-->Sentence 91: Now, Republicans and Democrats must join forces again to confront an urgent national crisis.\\xa0 Congress has 10 days left to pass a bill that will fund our government, protect our homeland, and secure our very dangerous southern border.\n",
            "-->Sentence 92: Now is the time for Congress to show the world that America is committed to ending illegal immigration and putting the ruthless coyotes, cartels, drug dealers, and human traffickers out of business.\\xa0 (Applause.)\n",
            "-->Sentence 93: As we speak, large, organized caravans are on the march to the United States.\\xa0\n",
            "-->Sentence 94: We have just heard that Mexican cities, in order to remove the illegal immigrants from their communities, are getting trucks and buses to bring them up to our country in areas where there is little border protection.\\xa0\n",
            "-->Sentence 95: I have ordered another 3,750 troops to our southern border to prepare for this tremendous onslaught.\n",
            "-->Sentence 96: This is a moral issue.\\xa0\n",
            "-->Sentence 97: The lawless state of our southern border is a threat to the safety, security, and financial wellbeing of all America.\\xa0\n",
            "-->Sentence 98: We have a moral duty to create an immigration system that protects the lives and jobs of our citizens.\\xa0\n",
            "-->Sentence 99: This includes our obligation to the millions of immigrants living here today who followed the rules and respected\n",
            "-->Sentence 100: our laws.\\xa0 Legal immigrants enrich our nation and strengthen our society in countless ways.\\xa0 (Applause.)\n",
            "-->Sentence 101: I want people to come into our country in the largest numbers ever, but they have to come in legally.\\xa0 (Applause.)\n",
            "-->Sentence 102: Tonight, I am asking you to defend our very dangerous southern border out of love and devotion to our fellow citizens and to our country.\n",
            "-->Sentence 103: No issue better illustrates the divide between America’s working class and America’s political class than illegal immigration.\\xa0\n",
            "-->Sentence 104: Wealthy politicians and donors push for open borders while living their lives behind walls, and gates, and guards.\\xa0 (Applause.)\n",
            "-->Sentence 105: Meanwhile, working-class Americans are left to pay the price for mass illegal migration: reduced jobs, lower wages, overburdened schools, hospitals that are so crowded you can’t get in, increased crime, and a depleted social safety net.\\xa0\n",
            "-->Sentence 106: Tolerance for illegal immigration is not compassionate; it is actually very cruel.\\xa0 (Applause.)\n",
            "-->Sentence 107: One in three women is sexually assaulted on the long journey north.\\xa0\n",
            "-->Sentence 108: Smugglers use migrant children as human pawns to exploit our laws and gain access to our country.\\xa0 Human traffickers and sex traffickers take advantage of the wide-open areas between our ports of entry to smuggle thousands of young girls and women into the United States and to sell them into prostitution and modern-day slavery.\n",
            "-->Sentence 109: Tens of thousands of innocent Americans are killed by lethal drugs that cross our border and flood into our cities, including meth, heroin, cocaine, and fentanyl.\n",
            "-->Sentence 110: The savage gang, MS-13, now operates in at least 20 different American states, and they almost all come through our southern border.\\xa0 Just yesterday, an MS-13 gang member was taken into custody for a fatal shooting on a subway platform in New York\n",
            "-->Sentence 111: City.\\xa0\n",
            "-->Sentence 112: We are removing these gang members by the thousands.\\xa0\n",
            "-->Sentence 113: But until we secure our border, they’re going to keep streaming right back in.\n",
            "-->Sentence 114: Year after year, countless Americans are murdered by criminal illegal aliens.\\xa0 I’ve gotten to know many wonderful Angel moms and dads, and families.\\xa0\n",
            "-->Sentence 115: No one should ever have to suffer the horrible heartache that they have had to endure.\n",
            "-->Sentence 116: Here tonight is Debra Bissell.\\xa0 Just three weeks ago, Debra’s parents, Gerald and Sharon, were burglarized and shot to death in their Reno, Nevada home by an illegal alien.\\xa0\n",
            "-->Sentence 117: They were in their eighties, and are survived by 4 children, 11 grandchildren, and 20 great-grandchildren.\\xa0\n",
            "-->Sentence 118: Also here tonight are Gerald and Sharon’s granddaughter Heather, and great-granddaughter Madison.\n",
            "-->Sentence 119: To Debra, Heather, Madison, please stand.\\xa0 Few can understand your pain.\\xa0 Thank you.\\xa0 And thank you for being here.\\xa0\n",
            "-->Sentence 120: Thank you very much.\\xa0\n",
            "-->Sentence 121: (Applause.)\n",
            "-->Sentence 122: I will never forget, and I will fight for the memory of Gerald and Sharon that it should never happen\n",
            "-->Sentence 123: again.\\xa0\n",
            "-->Sentence 124: Not one more American life should be lost because our nation failed to control its very dangerous border.\n",
            "-->Sentence 125: In the last two years, our brave ICE officers made 266,000 arrests of criminal aliens, including those charged or convicted of nearly 100,000 assaults, 30,000 sex crimes, and 4,000 killings or murders.\n",
            "-->Sentence 126: We are joined tonight by one of those law enforcement heroes:\n",
            "-->Sentence 127: ICE Special Agent Elvin Hernandez.\\xa0\n",
            "-->Sentence 128: When Elvin — (applause) — thank you.\n",
            "-->Sentence 129: When Elvin was a boy, he and his family legally immigrated to the United States from the Dominican Republic.\\xa0 At the age of eight\n",
            "-->Sentence 130: , Elvin told his dad he wanted to become a Special Agent.\\xa0 Today, he leads investigations into the scourge of international sex trafficking.\n",
            "-->Sentence 131: Elvin says that, “If I can make sure these young girls get their justice, I’ve [really] done my job.”\\xa0\n",
            "-->Sentence 132: Thanks to his work, and that of his incredible colleagues, more than 300 women and girls have been rescued from the horror of this terrible situation, and more than 1,500 sadistic traffickers have been put behind bars.\\xa0 (Applause.)\\xa0\n",
            "-->Sentence 133: Thank you, Elvin.\n",
            "-->Sentence 134: We will always support the brave men and women of law enforcement, and I pledge to you tonight that I will never abolish our heroes from ICE.\n",
            "-->Sentence 135: \\xa0Thank you.\\xa0\n",
            "-->Sentence 136: (Applause.)\n",
            "-->Sentence 137: My administration has sent to Congress a commonsense proposal to end the crisis on the southern border.\\xa0\n",
            "-->Sentence 138: It includes humanitarian assistance, more law enforcement, drug detection at our ports, closing loopholes that enable child smuggling, and plans for a new physical barrier, or wall, to secure the vast areas between our ports of entry.\n",
            "-->Sentence 139: In the past, most of the people in this room voted for a wall, but the proper wall never got built.\\xa0\n",
            "-->Sentence 140: I will get it built.\\xa0\n",
            "-->Sentence 141: (Applause.)\n",
            "-->Sentence 142: This is a smart, strategic, see-through steel barrier — not just a simple concrete wall.\\xa0\n",
            "-->Sentence 143: It will be deployed in the areas identified by the border agents as having the greatest need.\\xa0\n",
            "-->Sentence 144: And these agents will tell you: Where walls go up, illegal crossings go way, way down.\\xa0 (Applause.)\n",
            "-->Sentence 145: San Diego used to have the most illegal border crossings in our country.\\xa0\n",
            "-->Sentence 146: In response, a strong security wall was put in place.\\xa0\n",
            "-->Sentence 147: This powerful barrier almost completely ended illegal crossings.\n",
            "-->Sentence 148: The border city of El Paso, Texas used to have extremely high rates of violent crime — one of the highest in the entire country, and considered one of our nation’s\n",
            "-->Sentence 149: most dangerous cities.\\xa0\n",
            "-->Sentence 150: Now, immediately upon its building, with a powerful barrier in place, El Paso is one of the safest cities in our country.\\xa0 Simply put:\n",
            "-->Sentence 151: Walls work, and walls save lives.\\xa0 (Applause.)\n",
            "-->Sentence 152: So let’s work together, compromise, and reach a deal that will truly make America safe.\n",
            "-->Sentence 153: As we work to defend our people’s safety, we must also ensure our economic resurgence continues at a rapid pace.\\xa0\n",
            "-->Sentence 154: No one has benefitted more from our thriving economy than women, who have filled 58 percent of the newly created jobs last year.\\xa0\n",
            "-->Sentence 155: (Applause.)\n",
            "-->Sentence 156: You weren’t supposed to do that.\\xa0\n",
            "-->Sentence 157: Thank you very much.\\xa0\n",
            "-->Sentence 158: Thank you very much.\n",
            "-->Sentence 159: All Americans can be proud that we have more women in the workforce than ever before.\\xa0\n",
            "-->Sentence 160: (Applause.)\n",
            "-->Sentence 161: Don’t sit yet.\\xa0\n",
            "-->Sentence 162: You’re going to like this.\\xa0 (Laughter.)\n",
            "-->Sentence 163: And exactly one century after Congress passed the constitutional amendment giving women the right to vote, we also have more women serving in Congress than at any time before.\\xa0 (Applause.) AUDIENCE:\\xa0\n",
            "-->Sentence 164: USA!\\xa0 USA!\\xa0 USA!\n",
            "-->Sentence 165: THE PRESIDENT:\\xa0\n",
            "-->Sentence 166: That’s great.\\xa0 Really great.\\xa0 And congratulations.\\xa0\n",
            "-->Sentence 167: That’s great.\n",
            "-->Sentence 168: As part of our commitment to improving opportunity for women everywhere, this Thursday we are launching the first-ever government-wide initiative focused on economic empowerment for women in developing countries.\n",
            "-->Sentence 169: To build on — (applause) — thank you.\\xa0 To build on our incredible economic success, one priority is paramount: reversing decades of calamitous trade policies.\\xa0 So bad.\n",
            "-->Sentence 170: We are now making it clear to China that, after years of targeting our industries and stealing our intellectual property, the theft of American jobs and wealth has come to an end.\\xa0 (Applause.)\\xa0\n",
            "-->Sentence 171: Therefore, we recently imposed tariffs on $250 billion of Chinese goods, and now our Treasury is receiving billions and billions of dollars.\n",
            "-->Sentence 172: But I don’t blame China for taking advantage of us; I blame our leaders and representatives for allowing this travesty to happen.\\xa0\n",
            "-->Sentence 173: I have great respect for President Xi, and we are now working on a new trade deal with China.\\xa0\n",
            "-->Sentence 174: But it must include real, structural change to end unfair trade practices, reduce our chronic trade deficit, and protect American jobs.\\xa0 (Applause.)\\xa0\n",
            "-->Sentence 175: Thank you.\n",
            "-->Sentence 176: Another historic trade blunder was the catastrophe known as NAFTA.\\xa0 I have met the men and women of Michigan, Ohio, Pennsylvania, Indiana, New Hampshire, and many other states whose dreams were shattered by the signing of NAFTA.\\xa0 For years, politicians promised them they would renegotiate for a better deal, but no one ever tried, until now.\n",
            "-->Sentence 177: Our new U.S.-Mexico-Canada Agreement, the USMCA, will replace NAFTA and deliver for American workers like they haven’t had delivered to for a long time.\\xa0\n",
            "-->Sentence 178: I hope you can pass the USMCA into law so that we can bring back our manufacturing jobs in even greater numbers, expand American agriculture, protect intellectual property, and ensure that more cars are proudly stamped with our four beautiful words: “Made in the USA.”\\xa0 (Applause.)\n",
            "-->Sentence 179: Tonight, I am also asking you to pass the United States Reciprocal Trade Act, so that if another country places an unfair tariff on an American product, we can charge them the exact same tariff on the exact same product that they sell to us.\\xa0\n",
            "-->Sentence 180: (Applause.)\n",
            "-->Sentence 181: Both parties should be able to unite for a great rebuilding of America’s\n",
            "-->Sentence 182: crumbling infrastructure.\\xa0 (Applause.)\n",
            "-->Sentence 183: I know that Congress is eager to pass an infrastructure bill, and I am eager to work with you on legislation to deliver new and important infrastructure investment, including investments in the cutting-edge industries of the future.\\xa0\n",
            "-->Sentence 184: This is not an option.\\xa0\n",
            "-->Sentence 185: This is a necessity.\n",
            "-->Sentence 186: The next major priority for me, and for all of us, should be to lower the cost of healthcare and prescription drugs, and to protect patients with preexisting conditions.\\xa0 (Applause.)\n",
            "-->Sentence 187: Already, as a result of my administration’s efforts, in 2018, drug prices experienced their single largest decline in 46 years.\\xa0 (Applause.)\n",
            "-->Sentence 188: But we must do more.\\xa0\n",
            "-->Sentence 189: It’s unacceptable that Americans pay vastly more than people in other countries for the exact same drugs, often made in the exact same place.\\xa0 This is wrong\n",
            "-->Sentence 190: , this is unfair, and together we will stop it — and we’ll stop it fast.\\xa0\n",
            "-->Sentence 191: (Applause.)\n",
            "-->Sentence 192: I am asking Congress to pass legislation that finally takes on the problem of global freeloading and delivers fairness and price transparency for American patients, finally.\\xa0 (Applause.)\n",
            "-->Sentence 193: We should also require drug companies, insurance companies, and hospitals to disclose real prices to foster competition and bring costs way down.\\xa0 (Applause.)\n",
            "-->Sentence 194: No force in history has done more to advance the human condition than American freedom.\\xa0\n",
            "-->Sentence 195: In recent years — (applause) — in recent years, we have made remarkable progress in the fight against HIV and AIDS.\\xa0 Scientific breakthroughs have brought a once-distant dream within reach.\\xa0\n",
            "-->Sentence 196: My budget will ask Democrats and Republicans to make the needed commitment to eliminate the HIV epidemic in the United States within 10 years.\\xa0\n",
            "-->Sentence 197: We have made incredible strides.\\xa0 Incredible.\\xa0 (Applause.)\\xa0\n",
            "-->Sentence 198: Together, we will defeat AIDS in America and beyond.\\xa0 (Applause.)\n",
            "-->Sentence 199: Tonight, I am also asking you to join me in another fight that all Americans can get behind: the fight against childhood cancer.\\xa0 (Applause.)\n",
            "-->Sentence 200: Joining Melania in the gallery this evening is a very brave 10-year-old girl, Grace Eline.\\xa0\n",
            "-->Sentence 201: Every birthday — (applause) —\n",
            "-->Sentence 202: hi, Grace.\\xa0 (Laughter.)\\xa0\n",
            "-->Sentence 203: Every birthday since she was four, Grace asked her friends to donate to St. Jude’s Children’s Hospital.\\xa0\n",
            "-->Sentence 204: She did not know that one day she might be a patient herself.\\xa0\n",
            "-->Sentence 205: That’s what happened.\n",
            "-->Sentence 206: Last year, Grace was diagnosed with brain cancer.\n",
            "-->Sentence 207: Immediately, she began radiation treatment.\\xa0 At the same time, she rallied her community and raised more than $40,000 for the fight against cancer.\\xa0 (Applause.)\\xa0\n",
            "-->Sentence 208: When Grace completed treatment last fall, her doctors and nurses cheered — they loved her; they still love her — with tears in their eyes as she hung up a poster that read: “Last day of chemo.\n",
            "-->Sentence 209: ”\\xa0\n",
            "-->Sentence 210: (Applause.)\\xa0 Thank you very much, Grace.\\xa0 You are a great inspiration to everyone in this room.\\xa0\n",
            "-->Sentence 211: Thank you very much.\n",
            "-->Sentence 212: Many childhood cancers have not seen new therapies in decades.\\xa0\n",
            "-->Sentence 213: My budget will ask Congress for $500 million over the next 10 years to fund this critical lifesaving research.\n",
            "-->Sentence 214: To help support working parents, the time has come to pass School Choice for Americans’ children.\\xa0 (Applause.)\\xa0 I am also proud to be the first President to include in my budget a plan for nationwide paid family leave, so that every new parent has the chance to bond with their newborn child.\\xa0 (Applause.)\n",
            "-->Sentence 215: There could be no greater contrast to the beautiful image of a mother holding her infant child than the chilling displays our nation saw in recent days.\\xa0 Lawmakers in New York cheered with delight upon the passage of legislation that would allow a baby to be ripped from the mother’s womb moments from birth.\\xa0\n",
            "-->Sentence 216: These are living, feeling,\n",
            "-->Sentence 217: beautiful babies who will never get the chance to share their love and their dreams with the world.\\xa0\n",
            "-->Sentence 218: And then, we had the case of the Governor of Virginia where he stated he would execute a baby after birth.\n",
            "-->Sentence 219: To defend the dignity of every person, I am asking Congress to pass legislation to prohibit the late-term abortion of children who can feel pain in the mother’s womb.\\xa0\n",
            "-->Sentence 220: (Applause.)\n",
            "-->Sentence 221: Let us work together to build a culture that cherishes innocent life.\\xa0 (Applause.)\\xa0\n",
            "-->Sentence 222: And let us reaffirm a fundamental truth: All children — born and unborn — are made in the holy image of God.\n",
            "-->Sentence 223: The final part of my agenda is to protect American security.\\xa0 Over the last two years, we have begun to fully rebuild the United States military, with $700 billion last year and $716 billion this year.\n",
            "-->Sentence 224: We are also getting other nations to pay their fair share.\\xa0 (Applause.)\\xa0\n",
            "-->Sentence 225: Finally.\\xa0 Finally.\\xa0\n",
            "-->Sentence 226: For years, the United States was being treated very unfairly by friends of ours, members of NATO.\\xa0\n",
            "-->Sentence 227: But now we have secured, over the last couple of years, more than $100 billion of increase in defense spending from our NATO Allies.\\xa0 (Applause.)\\xa0\n",
            "-->Sentence 228: They said it couldn’t be done.\n",
            "-->Sentence 229: As part of our military build-up, the United States is developing a state-of-the-art missile defense system.\n",
            "-->Sentence 230: Under my administration, we will never apologize for advancing America’s interests.\n",
            "-->Sentence 231: For example, decades ago, the United States entered into a treaty with Russia in which we agreed to limit and reduce our missile capability.\\xa0 While we followed the agreement and the rules to the letter, Russia repeatedly violated its terms.\\xa0\n",
            "-->Sentence 232: It’s been going on for many years.\\xa0\n",
            "-->Sentence 233: That is why I announced that the United States is officially withdrawing from the Intermediate-Range Nuclear Forces Treaty, or INF Treaty.\n",
            "-->Sentence 234: Perhaps — (applause)\n",
            "-->Sentence 235: — we really have no choice.\\xa0\n",
            "-->Sentence 236: Perhaps we can negotiate a different agreement, adding China and others, or perhaps we can’t — in which case, we will outspend and out-innovate all others by far.\\xa0 (Applause.)\n",
            "-->Sentence 237: As part of a bold new diplomacy, we continue our historic push for peace on the Korean Peninsula.\\xa0\n",
            "-->Sentence 238: Our hostages have come home, nuclear testing has stopped, and there has not been a missile launch in more than 15 months.\\xa0\n",
            "-->Sentence 239: If I had not been elected President of the United States, we would right now, in my opinion, be in a major war with North Korea.\\xa0 (Applause.)\n",
            "-->Sentence 240: Much work remains to be done, but my relationship with Kim Jong Un is a good one.\\xa0\n",
            "-->Sentence 241: Chairman Kim and I will meet again on February 27th and 28th in Vietnam.\\xa0 (Applause.)\n",
            "-->Sentence 242: Two weeks ago, the United States officially recognized the legitimate government of Venezuela — (applause) — and its new President, Juan Guaidó.\\xa0 (Applause.)\n",
            "-->Sentence 243: We stand with the Venezuelan people in their noble quest for freedom, and we condemn the brutality of the Maduro regime, whose socialist policies have turned that nation from being the wealthiest in South America into a state of abject poverty and despair.\\xa0\n",
            "-->Sentence 244: (Applause.)\n",
            "-->Sentence 245: Here in the United States, we are alarmed by the new calls to adopt socialism in our country.\n",
            "-->Sentence 246: AUDIENCE: \\xa0Booo — THE PRESIDENT:\\xa0\n",
            "-->Sentence 247: America was founded on liberty and independence, and not government coercion, domination, and control.\\xa0 (Applause.)\\xa0\n",
            "-->Sentence 248: We are born free and we will stay free.\\xa0 (Applause.)\n",
            "-->Sentence 249: AUDIENCE:\\xa0\n",
            "-->Sentence 250: USA!\\xa0 USA!\\xa0 USA!\n",
            "-->Sentence 251: THE PRESIDENT:\\xa0\n",
            "-->Sentence 252: Tonight, we renew our resolve that America will never be a socialist country.\\xa0\n",
            "-->Sentence 253: (Applause.) AUDIENCE:\\xa0\n",
            "-->Sentence 254: USA!\\xa0 USA!\\xa0 USA!\n",
            "-->Sentence 255: THE PRESIDENT:\\xa0\n",
            "-->Sentence 256: One of the most complex set of challenges we face, and have for many years, is in the Middle East.\\xa0\n",
            "-->Sentence 257: Our approach is based on principled realism, not discredited theories that have failed for decades to yield progress.\\xa0 For this reason, my administration recognized the true capital of Israel, and proudly opened the American Embassy in Jerusalem.\\xa0 (Applause.)\n",
            "-->Sentence 258: Our brave troops have now been fighting in the Middle East for almost 19 years.\\xa0\n",
            "-->Sentence 259: In Afghanistan and Iraq, nearly 7,000 American heroes have given their lives.\\xa0\n",
            "-->Sentence 260: More than 52,000 Americans have been badly\n",
            "-->Sentence 261: wounded.\\xa0\n",
            "-->Sentence 262: We have spent more than $7 trillion in fighting wars in the Middle East.\n",
            "-->Sentence 263: As a candidate for President, I loudly pledged a new approach.\\xa0\n",
            "-->Sentence 264: Great nations do not fight endless wars.\\xa0 (Applause.)\n",
            "-->Sentence 265: When I took office, ISIS controlled more than 20,000 square miles in Iraq and Syria — just two years ago.\\xa0 Today, we have liberated virtually all of the territory from the grip of these bloodthirsty monsters.\n",
            "-->Sentence 266: Now, as we work with our allies to destroy the remnants of ISIS, it is time to give our brave warriors in Syria a warm welcome home.\n",
            "-->Sentence 267: I have also accelerated our negotiations to reach — if possible — a political settlement in Afghanistan.\\xa0\n",
            "-->Sentence 268: The opposing side is also very happy to be negotiating.\\xa0\n",
            "-->Sentence 269: Our troops have fought with unmatched valor.\\xa0 And thanks to their bravery, we are now able to pursue a possible political solution to this long and bloody conflict.\\xa0 (Applause.)\n",
            "-->Sentence 270: In Afghanistan, my administration is holding constructive talks with a number of Afghan groups, including the Taliban.\\xa0 As we make progress in these negotiations, we will be able to reduce our troop’s presence and focus on counterterrorism.\\xa0 And we will indeed focus on counterterrorism.\n",
            "-->Sentence 271: We do not know whether we will achieve an agreement, but we do know that, after two decades of war, the hour has come to at least try for peace.\\xa0 And the other side would like to do the same thing.\\xa0\n",
            "-->Sentence 272: It’s time.\\xa0 (Applause.)\n",
            "-->Sentence 273: Above all, friend and foe alike must never doubt this nation’s power and will to defend our people.\\xa0 Eighteen years ago, violent terrorists attacked the USS Cole.\\xa0 And last month, American forces killed one of the leaders of that attack.\n",
            "-->Sentence 274: (Applause.)\n",
            "-->Sentence 275: We are honored to be joined tonight by Tom Wibberley, whose son, Navy Seaman Craig Wibberley,\n",
            "-->Sentence 276: was one of the 17 sailors we tragically lost.\\xa0\n",
            "-->Sentence 277: Tom, we vow to always remember the heroes of the USS Cole.\\xa0 (Applause.)\\xa0\n",
            "-->Sentence 278: Thank you, Tom.\n",
            "-->Sentence 279: My administration has acted decisively to confront the world’s leading state sponsor of terror: the radical regime in Iran.\\xa0\n",
            "-->Sentence 280: It is a radical regime.\\xa0\n",
            "-->Sentence 281: They do bad, bad things.\n",
            "-->Sentence 282: To ensure this corrupt dictatorship never acquires nuclear weapons, I withdrew the United States from the disastrous Iran nuclear deal.\\xa0 (Applause.)\n",
            "-->Sentence 283: And last fall, we put in place the toughest sanctions ever imposed by us on a country.\n",
            "-->Sentence 284: We will not avert our eyes from a regime that chants “Death to America” and threatens genocide against the Jewish people.\\xa0 (Applause.)\\xa0\n",
            "-->Sentence 285: We must never ignore the vile poison of anti-Semitism, or those who spread its venomous creed.\\xa0 With one voice, we must confront this hatred anywhere and everywhere it occurs.\n",
            "-->Sentence 286: Just months ago, 11 Jewish-Americans were viciously murdered in an anti-Semitic attack on the Tree of Life synagogue in Pittsburgh.\\xa0 SWAT Officer Timothy Matson raced into the gunfire and was shot seven times chasing down the killer.\\xa0\n",
            "-->Sentence 287: And he was very successful.\\xa0\n",
            "-->Sentence 288: Timothy has just had his 12th surgery, and he is going in for many more.\\xa0\n",
            "-->Sentence 289: But he made the trip to be here with us tonight.\\xa0 Officer Matson, please.\\xa0 (Applause.)\\xa0\n",
            "-->Sentence 290: Thank you.\\xa0\n",
            "-->Sentence 291: We are forever grateful.\\xa0 Thank you very much.\n",
            "-->Sentence 292: Tonight, we are also joined by Pittsburgh survivor, Judah Samet.\\xa0\n",
            "-->Sentence 293: He arrived at the synagogue as the massacre began.\\xa0\n",
            "-->Sentence 294: But not only did Judah narrowly escape death last fall, more than seven decades ago, he narrowly survived the Nazi concentration camps.\\xa0\n",
            "-->Sentence 295: Today is Judah’s 81st birthday.\\xa0 (Applause.) AUDIENCE:\\xa0\n",
            "-->Sentence 296: (Sings “Happy Birthday.\n",
            "-->Sentence 297: ”)\\xa0 (Applause.)\n",
            "-->Sentence 298: MR.\n",
            "-->Sentence 299: SAMET:\\xa0\n",
            "-->Sentence 300: Thank you!\n",
            "-->Sentence 301: THE PRESIDENT:\\xa0\n",
            "-->Sentence 302: They wouldn’t do that for me, Judah.\\xa0 (Laughter.)\n",
            "-->Sentence 303: Judah says he can still remember the exact moment, nearly 75 years ago, after 10 months in a concentration camp, when he and his family were put on a train and told they were going to another camp.\\xa0\n",
            "-->Sentence 304: Suddenly, the train screeched to a very strong halt.\\xa0\n",
            "-->Sentence 305: A soldier appeared.\\xa0\n",
            "-->Sentence 306: Judah’s family braced for the absolute worst.\\xa0\n",
            "-->Sentence 307: Then, his father cried out with joy, “\n",
            "-->Sentence 308: It’s the Americans!\\xa0\n",
            "-->Sentence 309: It’s the Americans!”\\xa0 (Applause.)\\xa0\n",
            "-->Sentence 310: Thank you.\n",
            "-->Sentence 311: A second Holocaust survivor who is here tonight, Joshua Kaufman, was a prisoner at Dachau.\\xa0\n",
            "-->Sentence 312: He remembers watching through a hole in the wall of a cattle car as American soldiers rolled in with tanks.\\xa0\n",
            "-->Sentence 313: “To me,” Joshua recalls, “the American soldiers were proof that God exists, and they came down from the sky.\n",
            "-->Sentence 314: ”\\xa0\n",
            "-->Sentence 315: They came down from Heaven.\n",
            "-->Sentence 316: I began this evening by honoring three soldiers who fought on D-Day in the Second World War.\\xa0 One of them was Herman Zeitchik.\\xa0\n",
            "-->Sentence 317: But there is more to Herman’s story.\\xa0\n",
            "-->Sentence 318: A year after he stormed the beaches of Normandy, Herman was one of the American soldiers who helped liberate Dachau.\\xa0 (Applause.)\\xa0\n",
            "-->Sentence 319: He was one of the Americans who helped rescue Joshua from that hell on Earth.\n",
            "-->Sentence 320: Almost 75 years later, Herman and Joshua are both together in the gallery tonight, seated side-by-side, here in the home of American freedom.\\xa0 Herman and Joshua, your presence this evening is very much appreciated.\\xa0 Thank you very much.\\xa0 (Applause.)\\xa0\n",
            "-->Sentence 321: Thank you.\n",
            "-->Sentence 322: When American soldiers set out beneath the dark skies over the English Channel in the early hours of D-Day, 1944, they were just young men of 18 and 19, hurtling on fragile landing craft toward the most momentous battle in the history of war.\n",
            "-->Sentence 323: They did not know if they would survive the hour.\\xa0\n",
            "-->Sentence 324: They did not know if they would grow old.\\xa0\n",
            "-->Sentence 325: But they knew that America had to prevail.\\xa0\n",
            "-->Sentence 326: Their cause was this nation and generations yet unborn.\n",
            "-->Sentence 327: Why did they do it?\\xa0\n",
            "-->Sentence 328: They did it for America.\\xa0\n",
            "-->Sentence 329: They did it for us.\n",
            "-->Sentence 330: Everything that has come since — our triumph over communism, our giant leaps of science and discovery, our unrivaled progress towards equality and justice — all of it is possible thanks to the blood and tears and courage and vision of the Americans who came before.\n",
            "-->Sentence 331: Think of this Capitol.\\xa0\n",
            "-->Sentence 332: Think of this very Chamber, where lawmakers before you voted to end slavery, to build the railroads and the highways, and defeat fascism, to secure civil rights, and to face down evil empires.\n",
            "-->Sentence 333: Here tonight, we have legislators from across this magnificent republic.\\xa0\n",
            "-->Sentence 334: You have come from the rocky shores of Maine and the volcanic peaks of Hawaii; from the snowy woods of Wisconsin and the red deserts of Arizona; from the green farms of Kentucky and the golden beaches of California.\\xa0 Together, we represent the most extraordinary nation in all of history.\n",
            "-->Sentence 335: What will we do with this moment?\\xa0\n",
            "-->Sentence 336: How will we be remembered?\n",
            "-->Sentence 337: I ask the men and women of this Congress: Look at the opportunities before us.\\xa0\n",
            "-->Sentence 338: Our most thrilling achievements are still ahead.\\xa0\n",
            "-->Sentence 339: Our most exciting journeys still await.\\xa0\n",
            "-->Sentence 340: Our biggest victories are still to come.\\xa0 We have not yet begun to dream.\n",
            "-->Sentence 341: We must choose whether we are defined by our differences or whether we dare to transcend them.\n",
            "-->Sentence 342: We must choose whether we squander our great inheritance or whether we proudly declare that we are Americans.\n",
            "-->Sentence 343: We do the incredible.\\xa0\n",
            "-->Sentence 344: We defy the impossible.\\xa0\n",
            "-->Sentence 345: We conquer the unknown.\n",
            "-->Sentence 346: This is the time to reignite the American imagination.\\xa0\n",
            "-->Sentence 347: This is the time to search for the tallest summit and set our sights on the brightest star.\\xa0 This is the time to rekindle the bonds of love and loyalty and memory that link us together as citizens, as neighbors, as patriots.\n",
            "-->Sentence 348: This is our future, our fate, and our choice to make.\\xa0\n",
            "-->Sentence 349: I am asking you to choose greatness.\n",
            "-->Sentence 350: No matter the trials we face, no matter the challenges to come, we must go forward together.\n",
            "-->Sentence 351: We must keep America first in our hearts.\\xa0\n",
            "-->Sentence 352: We must keep freedom alive in our souls.\\xa0\n",
            "-->Sentence 353: And we must always keep faith in America’s destiny that one nation, under God, must be the hope and the promise, and the light and the glory, among all the nations of the world.\n",
            "-->Sentence 354: Thank you.\\xa0\n",
            "-->Sentence 355: God bless you.\\xa0\n",
            "-->Sentence 356: And God bless America.\\xa0\n",
            "-->Sentence 357: Thank you very much.\\xa0\n",
            "-->Sentence 358: Thank you.\\xa0\n",
            "-->Sentence 359: (Applause.)\n",
            "-->Sentence 360: END\\xa0\\xa0\\xa0\\xa0\\xa0\\xa0\\xa0\\xa0\\xa0\\xa0\\xa0\\xa0\\xa0\\xa0\\xa0\\xa0\\xa0 10:29 P.M. EST')\n"
          ],
          "name": "stdout"
        }
      ]
    },
    {
      "cell_type": "code",
      "metadata": {
        "id": "jfAL-qbN-lRE",
        "colab_type": "code",
        "colab": {}
      },
      "source": [
        "def unicodeCleaner(text):\n",
        "    d = text.replace(u'\\\\xa0', u' ')\n",
        "    d = d.replace(u'\\n', u'')\n",
        "    d = d.replace(u'\\t', u'')\n",
        "    d = d.replace(u'\\r', u'')\n",
        "    return d"
      ],
      "execution_count": 0,
      "outputs": []
    },
    {
      "cell_type": "code",
      "metadata": {
        "id": "8XqPkH7F1gws",
        "colab_type": "code",
        "colab": {}
      },
      "source": [
        "sentences = [unicodeCleaner(sen).strip() for sen in sentences ]"
      ],
      "execution_count": 0,
      "outputs": []
    },
    {
      "cell_type": "code",
      "metadata": {
        "id": "A2AqY-ai6rwC",
        "colab_type": "code",
        "colab": {
          "base_uri": "https://localhost:8080/",
          "height": 207
        },
        "outputId": "34c11b07-1ed6-4ede-ffc4-5c166522fd82"
      },
      "source": [
        "sentences[20:30]"
      ],
      "execution_count": 103,
      "outputs": [
        {
          "output_type": "execute_result",
          "data": {
            "text/plain": [
              "['An amazing quality of life for all of our citizens is within reach.',\n",
              " 'We can make our communities safer, our families stronger, our culture richer, our faith deeper, and our middle class bigger and more prosperous than ever before.',\n",
              " '(Applause.)',\n",
              " 'But we must reject the politics of revenge, resistance, and retribution, and embrace the boundless potential of cooperation, compromise, and the common good.  (Applause.)',\n",
              " 'Together, we can break decades of political stalemate.',\n",
              " 'We can bridge old divisions, heal old wounds, build new coalitions, forge new solutions, and unlock the extraordinary promise of America’s future.',\n",
              " 'The decision is ours to make.',\n",
              " 'We must choose between greatness or gridlock, results or resistance, vision or vengeance, incredible progress or pointless destruction.',\n",
              " 'Tonight, I ask you to choose greatness.  (Applause.)',\n",
              " 'Over the last two years, my administration has moved with urgency and historic speed to confront problems neglected by leaders of both parties over many decades.']"
            ]
          },
          "metadata": {
            "tags": []
          },
          "execution_count": 103
        }
      ]
    },
    {
      "cell_type": "code",
      "metadata": {
        "id": "UmOLujBm55NU",
        "colab_type": "code",
        "colab": {}
      },
      "source": [
        "# Extract word vectors\n",
        "word_embeddings = {}\n",
        "f = open('glove.6B.100d.txt', encoding='utf-8')\n",
        "for line in f:\n",
        "  values = line.split()\n",
        "  word = values[0]\n",
        "  coefs = np.asarray(values[1:] , dtype = 'float32')\n",
        "  word_embeddings[word] = coefs\n",
        "f.close()"
      ],
      "execution_count": 0,
      "outputs": []
    },
    {
      "cell_type": "code",
      "metadata": {
        "id": "uEfO5GD49Ad1",
        "colab_type": "code",
        "colab": {
          "base_uri": "https://localhost:8080/",
          "height": 34
        },
        "outputId": "d3874c0f-38bf-42df-d5d4-d587abdde4f5"
      },
      "source": [
        "len(word_embeddings)"
      ],
      "execution_count": 105,
      "outputs": [
        {
          "output_type": "execute_result",
          "data": {
            "text/plain": [
              "40324"
            ]
          },
          "metadata": {
            "tags": []
          },
          "execution_count": 105
        }
      ]
    },
    {
      "cell_type": "markdown",
      "metadata": {
        "id": "bAGuIU6A_Iws",
        "colab_type": "text"
      },
      "source": [
        "#Text Cleaning"
      ]
    },
    {
      "cell_type": "code",
      "metadata": {
        "id": "5YK9RoKV_876",
        "colab_type": "code",
        "colab": {
          "base_uri": "https://localhost:8080/",
          "height": 34
        },
        "outputId": "1f6d1599-b771-4fa6-a7db-4c14cf580c5f"
      },
      "source": [
        "stop_words = []\n",
        "stop_words = spacy.lang.en.stop_words.STOP_WORDS\n",
        "len(stop_words)"
      ],
      "execution_count": 106,
      "outputs": [
        {
          "output_type": "execute_result",
          "data": {
            "text/plain": [
              "326"
            ]
          },
          "metadata": {
            "tags": []
          },
          "execution_count": 106
        }
      ]
    },
    {
      "cell_type": "code",
      "metadata": {
        "id": "AJs93R2i-wlM",
        "colab_type": "code",
        "colab": {}
      },
      "source": [
        "# remove punctuations, numbers and special characters\n",
        "clean_sentences = pd.Series(filtered_sentence).str.replace(\"[^a-zA-Z0-9\\s]\", \" \")\n",
        "# change to lowercase\n",
        "clean_sentences = [s.lower().strip() for s in clean_sentences]\n",
        "# function to remove stopwords\n",
        "def remove_stopwords(sen):\n",
        "    sen_new = \" \".join([i for i in sen if i not in stop_words])\n",
        "    return sen_new\n",
        "clean_sentences = [remove_stopwords(r.split()) for r in clean_sentences]"
      ],
      "execution_count": 0,
      "outputs": []
    },
    {
      "cell_type": "code",
      "metadata": {
        "id": "2vC4LuFf_b5U",
        "colab_type": "code",
        "colab": {
          "base_uri": "https://localhost:8080/",
          "height": 1000
        },
        "outputId": "e82a2a55-272b-402d-ab9d-227537c50202"
      },
      "source": [
        "clean_sentences"
      ],
      "execution_count": 108,
      "outputs": [
        {
          "output_type": "execute_result",
          "data": {
            "text/plain": [
              "['remarks president trump state union address white house n t t t tremarks t t t nissued nfebruary 6 2019 n february 5',\n",
              " '2019 n9 07 p m est president',\n",
              " 'madam speaker mr vice president members congress lady united states applause fellow americans meet tonight moment unlimited potential begin new congress stand ready work achieve historic breakthroughs americans',\n",
              " 'millions fellow citizens watching gathered great chamber hoping govern parties nation applause',\n",
              " 'agenda lay evening republican agenda democrat agenda',\n",
              " 's agenda american people',\n",
              " 'campaigned core promises defend american jobs demand fair trade american workers rebuild revitalize nation s infrastructure reduce price healthcare prescription drugs create immigration system safe lawful modern secure pursue foreign policy puts america s interests',\n",
              " 'new opportunity american politics courage seize applause',\n",
              " 'victory winning',\n",
              " 'party victory winning country applause',\n",
              " 'year america recognize important anniversaries majesty america s mission power american pride',\n",
              " 'june mark 75 years start general dwight d eisenhower called great crusade allied liberation europe world war ii applause',\n",
              " 'd day june 6th 1944 15 000 young american men jumped sky 60 000 stormed sea save civilization tyranny tonight',\n",
              " 'incredible heroes',\n",
              " 'private class joseph reilly staff sergeant irving locker sergeant herman zeitchik applause',\n",
              " 'gentlemen salute',\n",
              " '2019 celebrate 50 years brave young pilots flew quarter million miles space plant american flag face moon half century later joined apollo 11 astronauts planted flag buzz aldrin applause',\n",
              " 'thank buzz',\n",
              " 'year american astronauts space american rockets applause',\n",
              " '20th century america saved freedom transformed science redefined middle class s world compete america applause step boldly bravely chapter great american adventure create new standard living 21st century',\n",
              " 'amazing quality life citizens reach',\n",
              " 'communities safer families stronger culture richer faith deeper middle class bigger prosperous',\n",
              " 'applause',\n",
              " 'reject politics revenge resistance retribution embrace boundless potential cooperation compromise common good applause',\n",
              " 'break decades political stalemate',\n",
              " 'bridge old divisions heal old wounds build new coalitions forge new solutions unlock extraordinary promise america s future',\n",
              " 'decision',\n",
              " 'choose greatness gridlock results resistance vision vengeance incredible progress pointless destruction',\n",
              " 'tonight ask choose greatness applause',\n",
              " 'years administration moved urgency historic speed confront problems neglected leaders parties decades',\n",
              " 'years election launched unprecedented economic boom boom rarely seen',\n",
              " 's like',\n",
              " '',\n",
              " 'created 5 3 million new jobs importantly added 600 000 new manufacturing jobs said impossible',\n",
              " 'fact getting started applause',\n",
              " 'wages rising fastest pace decades growing blue collar workers promised fight',\n",
              " 'growing faster thought possible nearly 5 million americans lifted food stamps applause',\n",
              " 'u s economy growing twice fast today took office',\n",
              " 'considered far away hottest economy world',\n",
              " 'close applause',\n",
              " 'unemployment reached lowest rate half century applause african american hispanic american asian american unemployment reached lowest levels recorded applause',\n",
              " 'unemployment americans disabilities reached time low applause people working time history country 157 million people work applause',\n",
              " 'passed massive tax cut working families doubled child tax credit applause',\n",
              " 'virtually ended estate tax death tax called small businesses ranchers family farms applause',\n",
              " 'eliminated unpopular obamacare individual mandate penalty applause critically ill patients access lifesaving cures passed importantly right try applause',\n",
              " 'administration cut regulations short period time administration entire tenure applause companies coming country large numbers thanks historic reductions taxes regulations applause',\n",
              " 'unleashed revolution american energy',\n",
              " 'united states number producer oil natural gas world applause',\n",
              " 'time 65 years net exporter energy',\n",
              " 'applause',\n",
              " '24 months rapid progress economy envy world military powerful earth far america applause',\n",
              " 'america winning day',\n",
              " 'applause',\n",
              " 'members congress state union strong',\n",
              " 'applause audience',\n",
              " 'usa usa usa',\n",
              " 'president sounds good laughter',\n",
              " 'country vibrant economy thriving like',\n",
              " 'friday announced added 304 000 jobs month double number expected applause',\n",
              " 'economic miracle taking place united states thing stop foolish wars politics ridiculous partisan investigations applause',\n",
              " 'going peace legislation war investigation',\n",
              " 'doesn t work way',\n",
              " 'united home defeat adversaries abroad',\n",
              " 'new era cooperation start finally confirming 300 highly qualified nominees stuck senate',\n",
              " 'cases years years waiting right applause',\n",
              " 'senate failed act nominations unfair nominees unfair country',\n",
              " 'time bipartisan action believe proven s possible',\n",
              " 'congress parties came pass unprecedented legislation confront opioid crisis sweeping new farm bill historic va reforms',\n",
              " 'decades rejection passed va accountability finally terminate mistreat wonderful veterans',\n",
              " 'applause',\n",
              " 'weeks ago parties united groundbreaking criminal justice reform',\n",
              " 'said couldn t',\n",
              " 'applause',\n",
              " 'year heard friends story alice johnson',\n",
              " 'deeply moved',\n",
              " '1997 alice sentenced life prison time non violent drug offender 22 years prison minister inspiring choose better path big impact prison population far',\n",
              " 'alice s story underscores disparities unfairness exist criminal sentencing need remedy total injustice',\n",
              " 'served 22 years expected prison remainder life',\n",
              " 'june commuted alice s sentence',\n",
              " 'saw alice s beautiful family greet prison gates hugging kissing crying laughing knew',\n",
              " 'right alice tonight terrific woman terrific alice applause',\n",
              " 'alice thank reminding power shape destiny thank alice thank applause',\n",
              " 'inspired stories like alice s administration worked closely members parties sign step act law big deal applause',\n",
              " 's big deal',\n",
              " 'legislation reformed sentencing laws wrongly disproportionately harmed african american community',\n",
              " 'step act gives non violent offenders chance reenter society productive law abiding citizens states country following lead america nation believes redemption',\n",
              " 'joined tonight matthew charles tennessee',\n",
              " '1996 age 30 matthew sentenced 35 years selling drugs related offenses decades completed 30 bible studies law clerk mentored fellow inmates',\n",
              " 'matthew person released prison step act applause',\n",
              " 'matthew thank matthew welcome home',\n",
              " 'applause',\n",
              " 'republicans democrats join forces confront urgent national crisis congress 10 days left pass bill fund government protect homeland secure dangerous southern border',\n",
              " 'time congress world america committed ending illegal immigration putting ruthless coyotes cartels drug dealers human traffickers business applause',\n",
              " 'speak large organized caravans march united states',\n",
              " 'heard mexican cities order remove illegal immigrants communities getting trucks buses bring country areas little border protection',\n",
              " 'ordered 3 750 troops southern border prepare tremendous onslaught',\n",
              " 'moral issue',\n",
              " 'lawless state southern border threat safety security financial wellbeing america',\n",
              " 'moral duty create immigration system protects lives jobs citizens',\n",
              " 'includes obligation millions immigrants living today followed rules respected',\n",
              " 'laws legal immigrants enrich nation strengthen society countless ways applause',\n",
              " 'want people come country largest numbers come legally applause',\n",
              " 'tonight asking defend dangerous southern border love devotion fellow citizens country',\n",
              " 'issue better illustrates divide america s working class america s political class illegal immigration',\n",
              " 'wealthy politicians donors push open borders living lives walls gates guards applause',\n",
              " 'working class americans left pay price mass illegal migration reduced jobs lower wages overburdened schools hospitals crowded t increased crime depleted social safety net',\n",
              " 'tolerance illegal immigration compassionate actually cruel applause',\n",
              " 'women sexually assaulted long journey north',\n",
              " 'smugglers use migrant children human pawns exploit laws gain access country human traffickers sex traffickers advantage wide open areas ports entry smuggle thousands young girls women united states sell prostitution modern day slavery',\n",
              " 'tens thousands innocent americans killed lethal drugs cross border flood cities including meth heroin cocaine fentanyl',\n",
              " 'savage gang ms 13 operates 20 different american states come southern border yesterday ms 13 gang member taken custody fatal shooting subway platform new york',\n",
              " 'city',\n",
              " 'removing gang members thousands',\n",
              " 'secure border going streaming right',\n",
              " 'year year countless americans murdered criminal illegal aliens ve gotten know wonderful angel moms dads families',\n",
              " 'suffer horrible heartache endure',\n",
              " 'tonight debra bissell weeks ago debra s parents gerald sharon burglarized shot death reno nevada home illegal alien',\n",
              " 'eighties survived 4 children 11 grandchildren 20 great grandchildren',\n",
              " 'tonight gerald sharon s granddaughter heather great granddaughter madison',\n",
              " 'debra heather madison stand understand pain thank thank',\n",
              " 'thank',\n",
              " 'applause',\n",
              " 'forget fight memory gerald sharon happen',\n",
              " '',\n",
              " 'american life lost nation failed control dangerous border',\n",
              " 'years brave ice officers 266 000 arrests criminal aliens including charged convicted nearly 100 000 assaults 30 000 sex crimes 4 000 killings murders',\n",
              " 'joined tonight law enforcement heroes',\n",
              " 'ice special agent elvin hernandez',\n",
              " 'elvin applause thank',\n",
              " 'elvin boy family legally immigrated united states dominican republic age',\n",
              " 'elvin told dad wanted special agent today leads investigations scourge international sex trafficking',\n",
              " 'elvin says sure young girls justice ve job',\n",
              " 'thanks work incredible colleagues 300 women girls rescued horror terrible situation 1 500 sadistic traffickers bars applause',\n",
              " 'thank elvin',\n",
              " 'support brave men women law enforcement pledge tonight abolish heroes ice',\n",
              " 'thank',\n",
              " 'applause',\n",
              " 'administration sent congress commonsense proposal end crisis southern border',\n",
              " 'includes humanitarian assistance law enforcement drug detection ports closing loopholes enable child smuggling plans new physical barrier wall secure vast areas ports entry',\n",
              " 'past people room voted wall proper wall got built',\n",
              " 'built',\n",
              " 'applause',\n",
              " 'smart strategic steel barrier simple concrete wall',\n",
              " 'deployed areas identified border agents having greatest need',\n",
              " 'agents tell walls illegal crossings way way applause',\n",
              " 'san diego illegal border crossings country',\n",
              " 'response strong security wall place',\n",
              " 'powerful barrier completely ended illegal crossings',\n",
              " 'border city el paso texas extremely high rates violent crime highest entire country considered nation s',\n",
              " 'dangerous cities',\n",
              " 'immediately building powerful barrier place el paso safest cities country simply',\n",
              " 'walls work walls save lives applause',\n",
              " 'let s work compromise reach deal truly america safe',\n",
              " 'work defend people s safety ensure economic resurgence continues rapid pace',\n",
              " 'benefitted thriving economy women filled 58 percent newly created jobs year',\n",
              " 'applause',\n",
              " 'weren t supposed',\n",
              " 'thank',\n",
              " 'thank',\n",
              " 'americans proud women workforce',\n",
              " 'applause',\n",
              " 'don t sit',\n",
              " 'going like laughter',\n",
              " 'exactly century congress passed constitutional amendment giving women right vote women serving congress time applause audience',\n",
              " 'usa usa usa',\n",
              " 'president',\n",
              " 's great great congratulations',\n",
              " 's great',\n",
              " 'commitment improving opportunity women thursday launching government wide initiative focused economic empowerment women developing countries',\n",
              " 'build applause thank build incredible economic success priority paramount reversing decades calamitous trade policies bad',\n",
              " 'making clear china years targeting industries stealing intellectual property theft american jobs wealth come end applause',\n",
              " 'recently imposed tariffs 250 billion chinese goods treasury receiving billions billions dollars',\n",
              " 'don t blame china taking advantage blame leaders representatives allowing travesty happen',\n",
              " 'great respect president xi working new trade deal china',\n",
              " 'include real structural change end unfair trade practices reduce chronic trade deficit protect american jobs applause',\n",
              " 'thank',\n",
              " 'historic trade blunder catastrophe known nafta met men women michigan ohio pennsylvania indiana new hampshire states dreams shattered signing nafta years politicians promised renegotiate better deal tried',\n",
              " 'new u s mexico canada agreement usmca replace nafta deliver american workers like haven t delivered long time',\n",
              " 'hope pass usmca law bring manufacturing jobs greater numbers expand american agriculture protect intellectual property ensure cars proudly stamped beautiful words usa applause',\n",
              " 'tonight asking pass united states reciprocal trade act country places unfair tariff american product charge exact tariff exact product sell',\n",
              " 'applause',\n",
              " 'parties able unite great rebuilding america s',\n",
              " 'crumbling infrastructure applause',\n",
              " 'know congress eager pass infrastructure bill eager work legislation deliver new important infrastructure investment including investments cutting edge industries future',\n",
              " 'option',\n",
              " 'necessity',\n",
              " 'major priority lower cost healthcare prescription drugs protect patients preexisting conditions applause',\n",
              " 'result administration s efforts 2018 drug prices experienced single largest decline 46 years applause',\n",
              " '',\n",
              " 's unacceptable americans pay vastly people countries exact drugs exact place wrong',\n",
              " 'unfair stop ll stop fast',\n",
              " 'applause',\n",
              " 'asking congress pass legislation finally takes problem global freeloading delivers fairness price transparency american patients finally applause',\n",
              " 'require drug companies insurance companies hospitals disclose real prices foster competition bring costs way applause',\n",
              " 'force history advance human condition american freedom',\n",
              " 'recent years applause recent years remarkable progress fight hiv aids scientific breakthroughs brought distant dream reach',\n",
              " 'budget ask democrats republicans needed commitment eliminate hiv epidemic united states 10 years',\n",
              " 'incredible strides incredible applause',\n",
              " 'defeat aids america applause',\n",
              " 'tonight asking join fight americans fight childhood cancer applause',\n",
              " 'joining melania gallery evening brave 10 year old girl grace eline',\n",
              " 'birthday applause',\n",
              " 'hi grace laughter',\n",
              " 'birthday grace asked friends donate st jude s children s hospital',\n",
              " 'know day patient',\n",
              " 's happened',\n",
              " 'year grace diagnosed brain cancer',\n",
              " 'immediately began radiation treatment time rallied community raised 40 000 fight cancer applause',\n",
              " 'grace completed treatment fall doctors nurses cheered loved love tears eyes hung poster read day chemo',\n",
              " '',\n",
              " 'applause thank grace great inspiration room',\n",
              " 'thank',\n",
              " 'childhood cancers seen new therapies decades',\n",
              " 'budget ask congress 500 million 10 years fund critical lifesaving research',\n",
              " 'help support working parents time come pass school choice americans children applause proud president include budget plan nationwide paid family leave new parent chance bond newborn child applause',\n",
              " 'greater contrast beautiful image mother holding infant child chilling displays nation saw recent days lawmakers new york cheered delight passage legislation allow baby ripped mother s womb moments birth',\n",
              " 'living feeling',\n",
              " 'beautiful babies chance share love dreams world',\n",
              " 'case governor virginia stated execute baby birth',\n",
              " 'defend dignity person asking congress pass legislation prohibit late term abortion children feel pain mother s womb',\n",
              " 'applause',\n",
              " 'let work build culture cherishes innocent life applause',\n",
              " 'let reaffirm fundamental truth children born unborn holy image god',\n",
              " 'final agenda protect american security years begun fully rebuild united states military 700 billion year 716 billion year',\n",
              " 'getting nations pay fair share applause',\n",
              " 'finally finally',\n",
              " 'years united states treated unfairly friends members nato',\n",
              " 'secured couple years 100 billion increase defense spending nato allies applause',\n",
              " 'said couldn t',\n",
              " 'military build united states developing state art missile defense system',\n",
              " 'administration apologize advancing america s interests',\n",
              " 'example decades ago united states entered treaty russia agreed limit reduce missile capability followed agreement rules letter russia repeatedly violated terms',\n",
              " 's going years',\n",
              " 'announced united states officially withdrawing intermediate range nuclear forces treaty inf treaty',\n",
              " 'applause',\n",
              " 'choice',\n",
              " 'negotiate different agreement adding china t case outspend innovate far applause',\n",
              " 'bold new diplomacy continue historic push peace korean peninsula',\n",
              " 'hostages come home nuclear testing stopped missile launch 15 months',\n",
              " 'elected president united states right opinion major war north korea applause',\n",
              " 'work remains relationship kim jong un good',\n",
              " 'chairman kim meet february 27th 28th vietnam applause',\n",
              " 'weeks ago united states officially recognized legitimate government venezuela applause new president juan guaid applause',\n",
              " 'stand venezuelan people noble quest freedom condemn brutality maduro regime socialist policies turned nation wealthiest south america state abject poverty despair',\n",
              " 'applause',\n",
              " 'united states alarmed new calls adopt socialism country',\n",
              " 'audience booo president',\n",
              " 'america founded liberty independence government coercion domination control applause',\n",
              " 'born free stay free applause',\n",
              " 'audience',\n",
              " 'usa usa usa',\n",
              " 'president',\n",
              " 'tonight renew resolve america socialist country',\n",
              " 'applause audience',\n",
              " 'usa usa usa',\n",
              " 'president',\n",
              " 'complex set challenges face years middle east',\n",
              " 'approach based principled realism discredited theories failed decades yield progress reason administration recognized true capital israel proudly opened american embassy jerusalem applause',\n",
              " 'brave troops fighting middle east 19 years',\n",
              " 'afghanistan iraq nearly 7 000 american heroes given lives',\n",
              " '52 000 americans badly',\n",
              " 'wounded',\n",
              " 'spent 7 trillion fighting wars middle east',\n",
              " 'candidate president loudly pledged new approach',\n",
              " 'great nations fight endless wars applause',\n",
              " 'took office isis controlled 20 000 square miles iraq syria years ago today liberated virtually territory grip bloodthirsty monsters',\n",
              " 'work allies destroy remnants isis time brave warriors syria warm welcome home',\n",
              " 'accelerated negotiations reach possible political settlement afghanistan',\n",
              " 'opposing happy negotiating',\n",
              " 'troops fought unmatched valor thanks bravery able pursue possible political solution long bloody conflict applause',\n",
              " 'afghanistan administration holding constructive talks number afghan groups including taliban progress negotiations able reduce troop s presence focus counterterrorism focus counterterrorism',\n",
              " 'know achieve agreement know decades war hour come try peace like thing',\n",
              " 's time applause',\n",
              " 'friend foe alike doubt nation s power defend people eighteen years ago violent terrorists attacked uss cole month american forces killed leaders attack',\n",
              " 'applause',\n",
              " 'honored joined tonight tom wibberley son navy seaman craig wibberley',\n",
              " '17 sailors tragically lost',\n",
              " 'tom vow remember heroes uss cole applause',\n",
              " 'thank tom',\n",
              " 'administration acted decisively confront world s leading state sponsor terror radical regime iran',\n",
              " 'radical regime',\n",
              " 'bad bad things',\n",
              " 'ensure corrupt dictatorship acquires nuclear weapons withdrew united states disastrous iran nuclear deal applause',\n",
              " 'fall place toughest sanctions imposed country',\n",
              " 'avert eyes regime chants death america threatens genocide jewish people applause',\n",
              " 'ignore vile poison anti semitism spread venomous creed voice confront hatred occurs',\n",
              " 'months ago 11 jewish americans viciously murdered anti semitic attack tree life synagogue pittsburgh swat officer timothy matson raced gunfire shot seven times chasing killer',\n",
              " 'successful',\n",
              " 'timothy 12th surgery going',\n",
              " 'trip tonight officer matson applause',\n",
              " 'thank',\n",
              " 'forever grateful thank',\n",
              " 'tonight joined pittsburgh survivor judah samet',\n",
              " 'arrived synagogue massacre began',\n",
              " 'judah narrowly escape death fall seven decades ago narrowly survived nazi concentration camps',\n",
              " 'today judah s 81st birthday applause audience',\n",
              " 'sings happy birthday',\n",
              " 'applause',\n",
              " 'mr',\n",
              " 'samet',\n",
              " 'thank',\n",
              " 'president',\n",
              " 'wouldn t judah laughter',\n",
              " 'judah says remember exact moment nearly 75 years ago 10 months concentration camp family train told going camp',\n",
              " 'suddenly train screeched strong halt',\n",
              " 'soldier appeared',\n",
              " 'judah s family braced absolute worst',\n",
              " 'father cried joy',\n",
              " 's americans',\n",
              " 's americans applause',\n",
              " 'thank',\n",
              " 'second holocaust survivor tonight joshua kaufman prisoner dachau',\n",
              " 'remembers watching hole wall cattle car american soldiers rolled tanks',\n",
              " 'joshua recalls american soldiers proof god exists came sky',\n",
              " '',\n",
              " 'came heaven',\n",
              " 'began evening honoring soldiers fought d day second world war herman zeitchik',\n",
              " 'herman s story',\n",
              " 'year stormed beaches normandy herman american soldiers helped liberate dachau applause',\n",
              " 'americans helped rescue joshua hell earth',\n",
              " '75 years later herman joshua gallery tonight seated home american freedom herman joshua presence evening appreciated thank applause',\n",
              " 'thank',\n",
              " 'american soldiers set beneath dark skies english channel early hours d day 1944 young men 18 19 hurtling fragile landing craft momentous battle history war',\n",
              " 'know survive hour',\n",
              " 'know grow old',\n",
              " 'knew america prevail',\n",
              " 'cause nation generations unborn',\n",
              " '',\n",
              " 'america',\n",
              " '',\n",
              " 'come triumph communism giant leaps science discovery unrivaled progress equality justice possible thanks blood tears courage vision americans came',\n",
              " 'think capitol',\n",
              " 'think chamber lawmakers voted end slavery build railroads highways defeat fascism secure civil rights face evil empires',\n",
              " 'tonight legislators magnificent republic',\n",
              " 'come rocky shores maine volcanic peaks hawaii snowy woods wisconsin red deserts arizona green farms kentucky golden beaches california represent extraordinary nation history',\n",
              " 'moment',\n",
              " 'remembered',\n",
              " 'ask men women congress look opportunities',\n",
              " 'thrilling achievements ahead',\n",
              " 'exciting journeys await',\n",
              " 'biggest victories come begun dream',\n",
              " 'choose defined differences dare transcend',\n",
              " 'choose squander great inheritance proudly declare americans',\n",
              " 'incredible',\n",
              " 'defy impossible',\n",
              " 'conquer unknown',\n",
              " 'time reignite american imagination',\n",
              " 'time search tallest summit set sights brightest star time rekindle bonds love loyalty memory link citizens neighbors patriots',\n",
              " 'future fate choice',\n",
              " 'asking choose greatness',\n",
              " 'matter trials face matter challenges come forward',\n",
              " 'america hearts',\n",
              " 'freedom alive souls',\n",
              " 'faith america s destiny nation god hope promise light glory nations world',\n",
              " 'thank',\n",
              " 'god bless',\n",
              " 'god bless america',\n",
              " 'thank',\n",
              " 'thank',\n",
              " 'applause',\n",
              " 'end 10 29 p m est']"
            ]
          },
          "metadata": {
            "tags": []
          },
          "execution_count": 108
        }
      ]
    },
    {
      "cell_type": "code",
      "metadata": {
        "id": "rx9KwCj8_psu",
        "colab_type": "code",
        "colab": {}
      },
      "source": [
        "sentence_vectors = []\n",
        "for i in sentences:\n",
        "    if len(i) != 0:\n",
        "        v = sum([word_embeddings.get(w, np.zeros((100,))) for w in i.split()])/(len(i.split())+0.001)\n",
        "    else:\n",
        "        v = np.zeros((100,))\n",
        "    sentence_vectors.append(v)\n",
        "\n"
      ],
      "execution_count": 0,
      "outputs": []
    },
    {
      "cell_type": "code",
      "metadata": {
        "id": "P6R324V5Kgm8",
        "colab_type": "code",
        "colab": {
          "base_uri": "https://localhost:8080/",
          "height": 442
        },
        "outputId": "6bf38b0a-641f-4952-b39e-2ae9fa27f497"
      },
      "source": [
        "len(sentence_vectors)\n",
        "sentence_vectors[0]"
      ],
      "execution_count": 150,
      "outputs": [
        {
          "output_type": "execute_result",
          "data": {
            "text/plain": [
              "array([-4.62830826e-02,  4.98595188e-03,  1.19469552e-01, -2.72067992e-02,\n",
              "        3.54626921e-02,  6.58560533e-02, -6.34203130e-02,  2.16849196e-02,\n",
              "       -1.45163565e-01,  5.89128622e-02,  5.84691197e-02, -6.42312297e-02,\n",
              "        8.50548081e-02, -1.39393385e-02,  3.63639821e-02, -3.21300912e-02,\n",
              "        4.49736210e-02, -2.24076464e-02, -6.03078429e-02,  1.78758166e-02,\n",
              "        6.04165023e-02,  7.04713916e-03,  9.71213766e-02,  7.27818184e-02,\n",
              "        8.47145361e-02, -6.06823476e-02,  7.81153261e-02, -7.02314177e-02,\n",
              "        2.10332356e-02, -2.72015614e-02,  4.44506939e-02,  2.97472986e-02,\n",
              "        1.08166352e-03,  4.29980205e-04, -7.08806425e-02,  3.04810713e-02,\n",
              "        6.66825402e-02,  1.55627826e-01, -7.25515926e-02, -2.21739435e-02,\n",
              "       -6.84676917e-02, -9.41963747e-02,  3.12194646e-02, -4.66801576e-02,\n",
              "        1.13301296e-02, -1.68206282e-02,  5.31020401e-02, -9.27420107e-02,\n",
              "       -5.50701872e-02, -9.78153417e-02, -2.12747964e-02,  5.35588783e-02,\n",
              "        7.36412537e-02,  2.07977714e-01, -1.52627495e-01, -6.14179806e-01,\n",
              "       -1.67840113e-02, -1.32218940e-01,  3.76025434e-01,  8.69616686e-02,\n",
              "       -7.26065898e-02,  1.59920006e-01, -5.23144624e-02,  1.10561878e-01,\n",
              "        2.08625779e-01,  2.42693224e-02,  6.38505302e-02,  7.34875499e-02,\n",
              "        1.17957619e-01,  1.67981515e-02, -1.55052120e-02,  2.63849311e-02,\n",
              "       -7.22146558e-02, -6.39695249e-02,  8.49926182e-02,  8.31769961e-03,\n",
              "       -7.50626115e-03,  1.71861698e-03, -2.43087471e-01, -2.24177425e-02,\n",
              "        1.23846960e-01,  3.79339562e-02, -1.05813151e-01,  6.28808142e-02,\n",
              "       -2.34348363e-01, -1.16690640e-02, -4.32830803e-02, -1.00363602e-01,\n",
              "        6.70258587e-02, -7.35350699e-02, -4.82762766e-03, -1.79018604e-02,\n",
              "       -6.27298691e-02,  1.76861101e-01, -9.74820271e-02, -1.20363321e-02,\n",
              "       -7.29746693e-02, -2.26200191e-02,  1.45116425e-01, -8.03595094e-02])"
            ]
          },
          "metadata": {
            "tags": []
          },
          "execution_count": 150
        }
      ]
    },
    {
      "cell_type": "code",
      "metadata": {
        "id": "8z5h5wAzBDol",
        "colab_type": "code",
        "colab": {}
      },
      "source": [
        "# Create an empty similarity matrix\n",
        "sim_mat = np.zeros([len(sentences), len(sentences)])"
      ],
      "execution_count": 0,
      "outputs": []
    },
    {
      "cell_type": "code",
      "metadata": {
        "id": "8WRPdvrzBFUJ",
        "colab_type": "code",
        "colab": {}
      },
      "source": [
        "for i in range(len(sentences)):\n",
        "  for j in range(len(sentences)):\n",
        "    if i !=j :\n",
        "      sim_mat[i][j] = cosine_similarity(sentence_vectors[i].reshape(1,100),sentence_vectors[j].reshape(1,100))[0,0]"
      ],
      "execution_count": 0,
      "outputs": []
    },
    {
      "cell_type": "code",
      "metadata": {
        "id": "tGQzu5OLDjjU",
        "colab_type": "code",
        "colab": {
          "base_uri": "https://localhost:8080/",
          "height": 34
        },
        "outputId": "1c610e29-62ed-4ada-af11-d406e1e4c22c"
      },
      "source": [
        "len(sim_mat)"
      ],
      "execution_count": 156,
      "outputs": [
        {
          "output_type": "execute_result",
          "data": {
            "text/plain": [
              "361"
            ]
          },
          "metadata": {
            "tags": []
          },
          "execution_count": 156
        }
      ]
    },
    {
      "cell_type": "markdown",
      "metadata": {
        "id": "A6f7sd8EscCK",
        "colab_type": "text"
      },
      "source": [
        "#PageRank"
      ]
    },
    {
      "cell_type": "code",
      "metadata": {
        "id": "8rxV6zWpETmV",
        "colab_type": "code",
        "colab": {
          "base_uri": "https://localhost:8080/",
          "height": 292
        },
        "outputId": "9425fca1-aa5d-4be4-f453-85a590ae2b61"
      },
      "source": [
        "nx_graph = nx.from_numpy_array(sim_mat)\n",
        "scores = nx.pagerank(nx_graph)\n",
        "\n",
        "ranked_sentences = sorted(((scores[i],s) for i,s in enumerate(sentences)), reverse=True)\n",
        "# Extract top 15 sentences as the summary representation\n",
        "for i in range(15):\n",
        "    print(ranked_sentences[i][1])"
      ],
      "execution_count": 162,
      "outputs": [
        {
          "output_type": "stream",
          "text": [
            "In the 20th century, America saved freedom, transformed science, redefined the middle class, and, when you get down to it, there’s nothing anywhere in the world that can compete with America.  (Applause.)  Now we must step boldly and bravely into the next chapter of this great American adventure, and we must create a new standard of living for the 21st century.\n",
            "We do not know whether we will achieve an agreement, but we do know that, after two decades of war, the hour has come to at least try for peace.  And the other side would like to do the same thing.\n",
            "Another historic trade blunder was the catastrophe known as NAFTA.  I have met the men and women of Michigan, Ohio, Pennsylvania, Indiana, New Hampshire, and many other states whose dreams were shattered by the signing of NAFTA.  For years, politicians promised them they would renegotiate for a better deal, but no one ever tried, until now.\n",
            "Millions of our fellow citizens are watching us now, gathered in this great chamber, hoping that we will govern not as two parties but as one nation.  (Applause.)\n",
            "And we must always keep faith in America’s destiny that one nation, under God, must be the hope and the promise, and the light and the glory, among all the nations of the world.\n",
            "If I had not been elected President of the United States, we would right now, in my opinion, be in a major war with North Korea.  (Applause.)\n",
            "To help support working parents, the time has come to pass School Choice for Americans’ children.  (Applause.)  I am also proud to be the first President to include in my budget a plan for nationwide paid family leave, so that every new parent has the chance to bond with their newborn child.  (Applause.)\n",
            "Perhaps we can negotiate a different agreement, adding China and others, or perhaps we can’t — in which case, we will outspend and out-innovate all others by far.  (Applause.)\n",
            "Madam Speaker, Mr. Vice President, Members of Congress, the First Lady of the United States — (applause) — and my fellow Americans: We meet tonight at a moment of unlimited potential.  As we begin a new Congress, I stand here ready to work with you to achieve historic breakthroughs for all Americans.\n",
            "There is a new opportunity in American politics, if only we have the courage, together, to seize it.  (Applause.)\n",
            "In Afghanistan, my administration is holding constructive talks with a number of Afghan groups, including the Taliban.  As we make progress in these negotiations, we will be able to reduce our troop’s presence and focus on counterterrorism.  And we will indeed focus on counterterrorism.\n",
            "The FIRST STEP Act gives non-violent offenders the chance to reenter society as productive, law-abiding citizens.  Now states across the country are following our lead.  America is a nation that believes in redemption.\n",
            "I hope you can pass the USMCA into law so that we can bring back our manufacturing jobs in even greater numbers, expand American agriculture, protect intellectual property, and ensure that more cars are proudly stamped with our four beautiful words: “Made in the USA.”  (Applause.)\n",
            "I want people to come into our country in the largest numbers ever, but they have to come in legally.  (Applause.)\n",
            "In the past, most of the people in this room voted for a wall, but the proper wall never got built.\n"
          ],
          "name": "stdout"
        }
      ]
    },
    {
      "cell_type": "markdown",
      "metadata": {
        "id": "OB8o8740MvY6",
        "colab_type": "text"
      },
      "source": [
        "#Gensim"
      ]
    },
    {
      "cell_type": "code",
      "metadata": {
        "id": "Z6aAhLqEEWLP",
        "colab_type": "code",
        "colab": {}
      },
      "source": [
        "from gensim.summarization import summarize\n",
        "from gensim.summarization import keywords"
      ],
      "execution_count": 0,
      "outputs": []
    },
    {
      "cell_type": "code",
      "metadata": {
        "id": "FhoK16qRMxBn",
        "colab_type": "code",
        "colab": {
          "base_uri": "https://localhost:8080/",
          "height": 343
        },
        "outputId": "58d1d949-e3df-49f1-867d-02cfcde82acb"
      },
      "source": [
        "#text = requests.get('https://www.whitehouse.gov/briefings-statements/remarks-president-trump-state-union-address-2/').text\n",
        "\n",
        "print('Summary:')\n",
        "print(summarize(str(text), ratio=0.02))\n",
        "\n",
        "print('\\nKeywords:')\n",
        "print(keywords(str(text), ratio=0.01))"
      ],
      "execution_count": 131,
      "outputs": [
        {
          "output_type": "stream",
          "text": [
            "Summary:\n",
            "In just over two years since the election, we have launched an unprecedented economic boom — a boom that has rarely been seen before.\\xa0 There’s been nothing like it.\\xa0 We have created 5.3 million new jobs and, importantly, added 600,000 new manufacturing jobs — something which almost everyone said was impossible to do.\\xa0 But the fact is, we are just getting started.\\xa0 (Applause.) Wages are rising at the fastest pace in decades and growing for blue-collar workers, who I promised to fight for.\\xa0 They’re growing faster than anyone else thought possible.\\xa0 Nearly 5 million Americans have been lifted off food stamps.\\xa0 (Applause.)\\xa0 The U.S. economy is growing almost twice as fast today as when I took office.\\xa0 And we are considered, far and away, the hottest economy anywhere in the world.\\xa0 Not even close.\\xa0 (Applause.) Unemployment has reached the lowest rate in over half a century.\\xa0 (Applause.)\\xa0 African American, Hispanic American, and Asian American unemployment have all reached their lowest levels ever recorded.\\xa0 (Applause.)\\xa0 Unemployment for Americans with disabilities has also reached an all-time low.\\xa0 (Applause.)\\xa0 More people are working now than at any time in the history of our country — 157 million people at work.\\xa0 (Applause.) We passed a massive tax cut for working families and doubled the child tax credit.\\xa0 (Applause.) We virtually ended the estate tax — or death tax, as it is often called — on small businesses for ranchers and also for family farms.\\xa0 (Applause.) We eliminated the very unpopular Obamacare individual mandate penalty.\\xa0 (Applause.)\\xa0 And to give critically ill patients access to lifesaving cures, we passed, very importantly, Right to Try.\\xa0 (Applause.) My administration has cut more regulations in a short period of time than any other administration during its entire tenure.\\xa0 (Applause.)\\xa0 Companies are coming back to our country in large numbers thanks to our historic reductions in taxes and regulations.\\xa0 (Applause.) And we have unleashed a revolution in American energy.\\xa0 The United States is now the number-one producer of oil and natural gas anywhere in the world.\\xa0 (Applause.)\\xa0 And now, for the first time in 65 years, we are a net exporter of energy.\\xa0 (Applause.) After 24 months of rapid progress, our economy is the envy of the world, our military is the most powerful on Earth, by far, and America — (applause) — America is again winning each and every day.\\xa0 (Applause.) Members of Congress: The state of our union is strong.\\xa0 (Applause.) AUDIENCE:\\xa0 USA!\\xa0 USA!\\xa0 USA!\n",
            "\n",
            "Keywords:\n",
            "americans\n",
            "american\n",
            "new\n",
            "applause\n",
            "year\n",
            "years\n",
            "trade\n",
            "drugs\n",
            "drug\n",
            "great\n",
            "greatness\n",
            "state\n",
            "states\n",
            "stated\n"
          ],
          "name": "stdout"
        }
      ]
    }
  ]
}